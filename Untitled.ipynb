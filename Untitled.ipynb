{
 "cells": [
  {
   "cell_type": "code",
   "execution_count": 1,
   "id": "83d82c0b",
   "metadata": {},
   "outputs": [
    {
     "data": {
      "text/plain": [
       "array([0, 0, 0, 0, 0, 0, 0, 0, 0, 0, 0, 0, 0, 0, 0, 0, 0, 0, 0, 0, 0, 0,\n",
       "       0, 0, 0, 0, 0, 0, 0, 0, 0, 0, 0, 0, 0, 0, 0, 0, 0, 0, 0, 0, 0, 0,\n",
       "       0, 0, 0, 0, 0, 0, 1, 1, 1, 1, 1, 1, 1, 1, 1, 1, 1, 1, 1, 1, 1, 1,\n",
       "       1, 1, 1, 1, 1, 1, 1, 1, 1, 1, 1, 1, 1, 1, 1, 1, 1, 1, 1, 1, 1, 1,\n",
       "       1, 1, 1, 1, 1, 1, 1, 1, 1, 1, 1, 1, 2, 2, 2, 2, 2, 2, 2, 2, 2, 2,\n",
       "       2, 2, 2, 2, 2, 2, 2, 2, 2, 2, 2, 2, 2, 2, 2, 2, 2, 2, 2, 2, 2, 2,\n",
       "       2, 2, 2, 2, 2, 2, 2, 2, 2, 2, 2, 2, 2, 2, 2, 2, 2, 2])"
      ]
     },
     "execution_count": 1,
     "metadata": {},
     "output_type": "execute_result"
    }
   ],
   "source": [
    "from sklearn.datasets import load_iris\n",
    "from sklearn.model_selection import train_test_split as tts\n",
    "\n",
    "iris = load_iris()\n",
    "\n",
    "x = iris.data\n",
    "y = iris.target\n",
    "\n",
    "fea = iris.feature_names\n",
    "target = iris.target_names\n",
    "y"
   ]
  },
  {
   "cell_type": "code",
   "execution_count": 2,
   "id": "7b8fa50c",
   "metadata": {},
   "outputs": [
    {
     "name": "stdout",
     "output_type": "stream",
     "text": [
      "(120, 4)\n",
      "(30, 4) \n",
      " (120,) \n",
      " (30,)\n"
     ]
    },
    {
     "data": {
      "text/plain": [
       "array([2, 0, 0, 1, 1, 1, 2, 2, 2, 0, 1, 2, 1, 0, 0, 1, 2, 1, 2, 1, 2, 2,\n",
       "       2, 2, 2, 1, 0, 0, 0, 1, 1, 0, 0, 0, 2, 1, 2, 2, 0, 2, 0, 1, 2, 0,\n",
       "       2, 0, 2, 2, 0, 2, 0, 0, 1, 1, 2, 0, 0, 2, 0, 2, 1, 1, 2, 2, 1, 0,\n",
       "       2, 2, 0, 2, 1, 1, 2, 2, 1, 0, 1, 0, 2, 2, 2, 0, 0, 0, 0, 2, 1, 0,\n",
       "       1, 2, 1, 0, 2, 0, 2, 0, 1, 1, 1, 0, 1, 0, 2, 1, 1, 0, 2, 1, 0, 2,\n",
       "       1, 0, 0, 0, 1, 1, 2, 1, 1, 0])"
      ]
     },
     "execution_count": 2,
     "metadata": {},
     "output_type": "execute_result"
    }
   ],
   "source": [
    "x_train, x_test, y_train, y_test = tts(x, y, test_size=.2)\n",
    "\n",
    "print(x_train.shape)\n",
    "print(x_test.shape,\"\\n\" ,y_train.shape, \"\\n\",y_test.shape)\n",
    "y_train"
   ]
  },
  {
   "cell_type": "code",
   "execution_count": 3,
   "id": "5244f7d0",
   "metadata": {},
   "outputs": [
    {
     "name": "stdout",
     "output_type": "stream",
     "text": [
      "[0 1 2 1 2 1 1 0 2 2 0 2 2 0 2 2 1 0 1 1 2 1 0 0 0 1 1 1 1 0] [0 1 2 1 2 1 1 0 2 1 0 2 2 0 1 2 1 0 1 1 2 1 0 0 0 1 1 2 1 0] 0.9\n"
     ]
    }
   ],
   "source": [
    "from sklearn.neighbors import KNeighborsClassifier as kn\n",
    "from sklearn import metrics\n",
    "\n",
    "\n",
    "knn = kn(n_neighbors=4)\n",
    "knn.fit(x_train, y_train)\n",
    "y_pre = knn.predict(x_test)\n",
    "\n",
    "met = metrics.accuracy_score(y_test, y_pre)\n",
    "print(y_pre, y_test, met)"
   ]
  },
  {
   "cell_type": "code",
   "execution_count": 4,
   "id": "6adda2c0",
   "metadata": {},
   "outputs": [
    {
     "name": "stdout",
     "output_type": "stream",
     "text": [
      "predictions:  [1 2] \n",
      " Values ['versicolor', 'virginica']\n"
     ]
    }
   ],
   "source": [
    "s = [[3,5,4,2],[2,3,5,4]]\n",
    "prediction = knn.predict(s)\n",
    "spec = [iris.target_names[a] for a in prediction]\n",
    "print('predictions: ', prediction,'\\n','Values', spec)"
   ]
  },
  {
   "cell_type": "code",
   "execution_count": 5,
   "id": "d41f3720",
   "metadata": {},
   "outputs": [
    {
     "data": {
      "text/plain": [
       "['mlbrain.joblib']"
      ]
     },
     "execution_count": 5,
     "metadata": {},
     "output_type": "execute_result"
    }
   ],
   "source": [
    "# from sklearn.externals import joblib\n",
    "import joblib\n",
    "joblib.dump(knn, 'mlbrain.joblib')"
   ]
  },
  {
   "cell_type": "code",
   "execution_count": 6,
   "id": "1bb5300d",
   "metadata": {},
   "outputs": [
    {
     "name": "stdout",
     "output_type": "stream",
     "text": [
      "predictions:  [1 2] \n",
      " Values ['versicolor', 'virginica']\n"
     ]
    }
   ],
   "source": [
    "model = joblib.load('mlbrain.joblib')\n",
    "model.predict(x_test)\n",
    "sample = [[3,5,4,2],[2,3,5,4]]\n",
    "prediction = model.predict(s)\n",
    "spec = [iris.target_names[a] for a in prediction]\n",
    "print('predictions: ', prediction,'\\n','Values', spec)"
   ]
  },
  {
   "cell_type": "code",
   "execution_count": null,
   "id": "0c32850a",
   "metadata": {},
   "outputs": [],
   "source": []
  }
 ],
 "metadata": {
  "kernelspec": {
   "display_name": "Python 3 (ipykernel)",
   "language": "python",
   "name": "python3"
  },
  "language_info": {
   "codemirror_mode": {
    "name": "ipython",
    "version": 3
   },
   "file_extension": ".py",
   "mimetype": "text/x-python",
   "name": "python",
   "nbconvert_exporter": "python",
   "pygments_lexer": "ipython3",
   "version": "3.9.12"
  }
 },
 "nbformat": 4,
 "nbformat_minor": 5
}
