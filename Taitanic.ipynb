{
 "cells": [
  {
   "cell_type": "code",
   "execution_count": 36,
   "id": "4100789a",
   "metadata": {
    "_cell_guid": "b1076dfc-b9ad-4769-8c92-a6c4dae69d19",
    "_uuid": "8f2839f25d086af736a60e9eeb907d3b93b6e0e5",
    "execution": {
     "iopub.execute_input": "2023-12-22T23:21:55.167991Z",
     "iopub.status.busy": "2023-12-22T23:21:55.167340Z",
     "iopub.status.idle": "2023-12-22T23:21:56.003667Z",
     "shell.execute_reply": "2023-12-22T23:21:56.002448Z"
    },
    "papermill": {
     "duration": 0.846819,
     "end_time": "2023-12-22T23:21:56.005940",
     "exception": false,
     "start_time": "2023-12-22T23:21:55.159121",
     "status": "completed"
    },
    "tags": []
   },
   "outputs": [],
   "source": [
    "import numpy as np\n",
    "import pandas as pd\n"
   ]
  },
  {
   "cell_type": "code",
   "execution_count": 37,
   "id": "6668e094",
   "metadata": {
    "execution": {
     "iopub.execute_input": "2023-12-22T23:21:56.020823Z",
     "iopub.status.busy": "2023-12-22T23:21:56.019710Z",
     "iopub.status.idle": "2023-12-22T23:21:56.079037Z",
     "shell.execute_reply": "2023-12-22T23:21:56.078022Z"
    },
    "papermill": {
     "duration": 0.068798,
     "end_time": "2023-12-22T23:21:56.080794",
     "exception": false,
     "start_time": "2023-12-22T23:21:56.011996",
     "status": "completed"
    },
    "tags": []
   },
   "outputs": [
    {
     "name": "stdout",
     "output_type": "stream",
     "text": [
      "<class 'pandas.core.frame.DataFrame'>\n",
      "RangeIndex: 891 entries, 0 to 890\n",
      "Data columns (total 12 columns):\n",
      " #   Column       Non-Null Count  Dtype  \n",
      "---  ------       --------------  -----  \n",
      " 0   PassengerId  891 non-null    int64  \n",
      " 1   Survived     891 non-null    int64  \n",
      " 2   Pclass       891 non-null    int64  \n",
      " 3   Name         891 non-null    object \n",
      " 4   Sex          891 non-null    object \n",
      " 5   Age          714 non-null    float64\n",
      " 6   SibSp        891 non-null    int64  \n",
      " 7   Parch        891 non-null    int64  \n",
      " 8   Ticket       891 non-null    object \n",
      " 9   Fare         891 non-null    float64\n",
      " 10  Cabin        204 non-null    object \n",
      " 11  Embarked     889 non-null    object \n",
      "dtypes: float64(2), int64(5), object(5)\n",
      "memory usage: 83.7+ KB\n"
     ]
    }
   ],
   "source": [
    "path = 'data/test.csv'\n",
    "path2 = \"data/train.csv\"\n",
    "\n",
    "train = pd.read_csv(path2)\n",
    "\n",
    "test = pd.read_csv(path)\n",
    "train.info()"
   ]
  },
  {
   "cell_type": "code",
   "execution_count": 3,
   "id": "95a8cd8d",
   "metadata": {},
   "outputs": [
    {
     "data": {
      "text/html": [
       "<div>\n",
       "<style scoped>\n",
       "    .dataframe tbody tr th:only-of-type {\n",
       "        vertical-align: middle;\n",
       "    }\n",
       "\n",
       "    .dataframe tbody tr th {\n",
       "        vertical-align: top;\n",
       "    }\n",
       "\n",
       "    .dataframe thead th {\n",
       "        text-align: right;\n",
       "    }\n",
       "</style>\n",
       "<table border=\"1\" class=\"dataframe\">\n",
       "  <thead>\n",
       "    <tr style=\"text-align: right;\">\n",
       "      <th></th>\n",
       "      <th>PassengerId</th>\n",
       "      <th>Survived</th>\n",
       "      <th>Pclass</th>\n",
       "      <th>Name</th>\n",
       "      <th>Sex</th>\n",
       "      <th>Age</th>\n",
       "      <th>SibSp</th>\n",
       "      <th>Parch</th>\n",
       "      <th>Ticket</th>\n",
       "      <th>Fare</th>\n",
       "      <th>Cabin</th>\n",
       "      <th>Embarked</th>\n",
       "    </tr>\n",
       "  </thead>\n",
       "  <tbody>\n",
       "    <tr>\n",
       "      <th>0</th>\n",
       "      <td>1</td>\n",
       "      <td>0</td>\n",
       "      <td>3</td>\n",
       "      <td>Braund, Mr. Owen Harris</td>\n",
       "      <td>male</td>\n",
       "      <td>22.0</td>\n",
       "      <td>1</td>\n",
       "      <td>0</td>\n",
       "      <td>A/5 21171</td>\n",
       "      <td>7.2500</td>\n",
       "      <td>NaN</td>\n",
       "      <td>S</td>\n",
       "    </tr>\n",
       "    <tr>\n",
       "      <th>1</th>\n",
       "      <td>2</td>\n",
       "      <td>1</td>\n",
       "      <td>1</td>\n",
       "      <td>Cumings, Mrs. John Bradley (Florence Briggs Th...</td>\n",
       "      <td>female</td>\n",
       "      <td>38.0</td>\n",
       "      <td>1</td>\n",
       "      <td>0</td>\n",
       "      <td>PC 17599</td>\n",
       "      <td>71.2833</td>\n",
       "      <td>C85</td>\n",
       "      <td>C</td>\n",
       "    </tr>\n",
       "    <tr>\n",
       "      <th>2</th>\n",
       "      <td>3</td>\n",
       "      <td>1</td>\n",
       "      <td>3</td>\n",
       "      <td>Heikkinen, Miss. Laina</td>\n",
       "      <td>female</td>\n",
       "      <td>26.0</td>\n",
       "      <td>0</td>\n",
       "      <td>0</td>\n",
       "      <td>STON/O2. 3101282</td>\n",
       "      <td>7.9250</td>\n",
       "      <td>NaN</td>\n",
       "      <td>S</td>\n",
       "    </tr>\n",
       "    <tr>\n",
       "      <th>3</th>\n",
       "      <td>4</td>\n",
       "      <td>1</td>\n",
       "      <td>1</td>\n",
       "      <td>Futrelle, Mrs. Jacques Heath (Lily May Peel)</td>\n",
       "      <td>female</td>\n",
       "      <td>35.0</td>\n",
       "      <td>1</td>\n",
       "      <td>0</td>\n",
       "      <td>113803</td>\n",
       "      <td>53.1000</td>\n",
       "      <td>C123</td>\n",
       "      <td>S</td>\n",
       "    </tr>\n",
       "    <tr>\n",
       "      <th>4</th>\n",
       "      <td>5</td>\n",
       "      <td>0</td>\n",
       "      <td>3</td>\n",
       "      <td>Allen, Mr. William Henry</td>\n",
       "      <td>male</td>\n",
       "      <td>35.0</td>\n",
       "      <td>0</td>\n",
       "      <td>0</td>\n",
       "      <td>373450</td>\n",
       "      <td>8.0500</td>\n",
       "      <td>NaN</td>\n",
       "      <td>S</td>\n",
       "    </tr>\n",
       "  </tbody>\n",
       "</table>\n",
       "</div>"
      ],
      "text/plain": [
       "   PassengerId  Survived  Pclass  \\\n",
       "0            1         0       3   \n",
       "1            2         1       1   \n",
       "2            3         1       3   \n",
       "3            4         1       1   \n",
       "4            5         0       3   \n",
       "\n",
       "                                                Name     Sex   Age  SibSp  \\\n",
       "0                            Braund, Mr. Owen Harris    male  22.0      1   \n",
       "1  Cumings, Mrs. John Bradley (Florence Briggs Th...  female  38.0      1   \n",
       "2                             Heikkinen, Miss. Laina  female  26.0      0   \n",
       "3       Futrelle, Mrs. Jacques Heath (Lily May Peel)  female  35.0      1   \n",
       "4                           Allen, Mr. William Henry    male  35.0      0   \n",
       "\n",
       "   Parch            Ticket     Fare Cabin Embarked  \n",
       "0      0         A/5 21171   7.2500   NaN        S  \n",
       "1      0          PC 17599  71.2833   C85        C  \n",
       "2      0  STON/O2. 3101282   7.9250   NaN        S  \n",
       "3      0            113803  53.1000  C123        S  \n",
       "4      0            373450   8.0500   NaN        S  "
      ]
     },
     "execution_count": 3,
     "metadata": {},
     "output_type": "execute_result"
    }
   ],
   "source": [
    "train.head()"
   ]
  },
  {
   "cell_type": "code",
   "execution_count": 4,
   "id": "8cc5ef0a",
   "metadata": {},
   "outputs": [
    {
     "data": {
      "text/plain": [
       "681"
      ]
     },
     "execution_count": 4,
     "metadata": {},
     "output_type": "execute_result"
    }
   ],
   "source": [
    "train.Ticket.nunique()"
   ]
  },
  {
   "cell_type": "code",
   "execution_count": 5,
   "id": "4ce9e8cb",
   "metadata": {},
   "outputs": [
    {
     "data": {
      "text/html": [
       "<div>\n",
       "<style scoped>\n",
       "    .dataframe tbody tr th:only-of-type {\n",
       "        vertical-align: middle;\n",
       "    }\n",
       "\n",
       "    .dataframe tbody tr th {\n",
       "        vertical-align: top;\n",
       "    }\n",
       "\n",
       "    .dataframe thead th {\n",
       "        text-align: right;\n",
       "    }\n",
       "</style>\n",
       "<table border=\"1\" class=\"dataframe\">\n",
       "  <thead>\n",
       "    <tr style=\"text-align: right;\">\n",
       "      <th>Pclass</th>\n",
       "      <th>1</th>\n",
       "      <th>2</th>\n",
       "      <th>3</th>\n",
       "    </tr>\n",
       "    <tr>\n",
       "      <th>Survived</th>\n",
       "      <th></th>\n",
       "      <th></th>\n",
       "      <th></th>\n",
       "    </tr>\n",
       "  </thead>\n",
       "  <tbody>\n",
       "    <tr>\n",
       "      <th>0</th>\n",
       "      <td>80</td>\n",
       "      <td>97</td>\n",
       "      <td>372</td>\n",
       "    </tr>\n",
       "    <tr>\n",
       "      <th>1</th>\n",
       "      <td>136</td>\n",
       "      <td>87</td>\n",
       "      <td>119</td>\n",
       "    </tr>\n",
       "  </tbody>\n",
       "</table>\n",
       "</div>"
      ],
      "text/plain": [
       "Pclass      1   2    3\n",
       "Survived              \n",
       "0          80  97  372\n",
       "1         136  87  119"
      ]
     },
     "execution_count": 5,
     "metadata": {},
     "output_type": "execute_result"
    }
   ],
   "source": [
    "from matplotlib import pyplot as plt\n",
    "import seaborn as sb\n",
    "\n",
    "pclass_survive = train.groupby(['Survived', 'Pclass']).Sex.count().reset_index()\n",
    "\n",
    "pclass = pclass_survive.pivot(index='Survived', columns='Pclass', values='Sex')\n",
    "\n",
    "embarked_survived = train.groupby(['Survived', \"Embarked\"]).PassengerId.count().reset_index()\n",
    "\n",
    "embarked = embarked_survived.pivot(index='Survived', columns='Embarked', values='PassengerId')\n",
    "\n",
    "pclass"
   ]
  },
  {
   "cell_type": "code",
   "execution_count": 6,
   "id": "6e6fab2a",
   "metadata": {},
   "outputs": [
    {
     "data": {
      "text/plain": [
       "<Axes: xlabel='Pclass'>"
      ]
     },
     "execution_count": 6,
     "metadata": {},
     "output_type": "execute_result"
    },
    {
     "data": {
      "image/png": "[encoded data removed]",
      "text/plain": [
       "<Figure size 640x480 with 1 Axes>"
      ]
     },
     "metadata": {},
     "output_type": "display_data"
    }
   ],
   "source": [
    "# plotting\n",
    "%matplotlib inline\n",
    "\n",
    "# fig, ax = plt.subplots()\n",
    "\n",
    "pclass.T.plot(kind='bar')\n"
   ]
  },
  {
   "cell_type": "markdown",
   "id": "04d1a427",
   "metadata": {},
   "source": [
    "* Basic Machine Learning"
   ]
  },
  {
   "cell_type": "code",
   "execution_count": 7,
   "id": "0e534919",
   "metadata": {},
   "outputs": [
    {
     "data": {
      "text/html": [
       "<div>\n",
       "<style scoped>\n",
       "    .dataframe tbody tr th:only-of-type {\n",
       "        vertical-align: middle;\n",
       "    }\n",
       "\n",
       "    .dataframe tbody tr th {\n",
       "        vertical-align: top;\n",
       "    }\n",
       "\n",
       "    .dataframe thead th {\n",
       "        text-align: right;\n",
       "    }\n",
       "</style>\n",
       "<table border=\"1\" class=\"dataframe\">\n",
       "  <thead>\n",
       "    <tr style=\"text-align: right;\">\n",
       "      <th></th>\n",
       "      <th>PassengerId</th>\n",
       "      <th>Survived</th>\n",
       "      <th>Pclass</th>\n",
       "      <th>Gender</th>\n",
       "      <th>Age</th>\n",
       "      <th>SibSp</th>\n",
       "      <th>Parch</th>\n",
       "      <th>Fare</th>\n",
       "      <th>Embarked</th>\n",
       "    </tr>\n",
       "  </thead>\n",
       "  <tbody>\n",
       "    <tr>\n",
       "      <th>0</th>\n",
       "      <td>1</td>\n",
       "      <td>0</td>\n",
       "      <td>3</td>\n",
       "      <td>1</td>\n",
       "      <td>22.0</td>\n",
       "      <td>1</td>\n",
       "      <td>0</td>\n",
       "      <td>7.2500</td>\n",
       "      <td>1.0</td>\n",
       "    </tr>\n",
       "    <tr>\n",
       "      <th>1</th>\n",
       "      <td>2</td>\n",
       "      <td>1</td>\n",
       "      <td>1</td>\n",
       "      <td>0</td>\n",
       "      <td>38.0</td>\n",
       "      <td>1</td>\n",
       "      <td>0</td>\n",
       "      <td>71.2833</td>\n",
       "      <td>2.0</td>\n",
       "    </tr>\n",
       "    <tr>\n",
       "      <th>2</th>\n",
       "      <td>3</td>\n",
       "      <td>1</td>\n",
       "      <td>3</td>\n",
       "      <td>0</td>\n",
       "      <td>26.0</td>\n",
       "      <td>0</td>\n",
       "      <td>0</td>\n",
       "      <td>7.9250</td>\n",
       "      <td>1.0</td>\n",
       "    </tr>\n",
       "    <tr>\n",
       "      <th>3</th>\n",
       "      <td>4</td>\n",
       "      <td>1</td>\n",
       "      <td>1</td>\n",
       "      <td>0</td>\n",
       "      <td>35.0</td>\n",
       "      <td>1</td>\n",
       "      <td>0</td>\n",
       "      <td>53.1000</td>\n",
       "      <td>1.0</td>\n",
       "    </tr>\n",
       "    <tr>\n",
       "      <th>4</th>\n",
       "      <td>5</td>\n",
       "      <td>0</td>\n",
       "      <td>3</td>\n",
       "      <td>1</td>\n",
       "      <td>35.0</td>\n",
       "      <td>0</td>\n",
       "      <td>0</td>\n",
       "      <td>8.0500</td>\n",
       "      <td>1.0</td>\n",
       "    </tr>\n",
       "  </tbody>\n",
       "</table>\n",
       "</div>"
      ],
      "text/plain": [
       "   PassengerId  Survived  Pclass  Gender   Age  SibSp  Parch     Fare  \\\n",
       "0            1         0       3       1  22.0      1      0   7.2500   \n",
       "1            2         1       1       0  38.0      1      0  71.2833   \n",
       "2            3         1       3       0  26.0      0      0   7.9250   \n",
       "3            4         1       1       0  35.0      1      0  53.1000   \n",
       "4            5         0       3       1  35.0      0      0   8.0500   \n",
       "\n",
       "   Embarked  \n",
       "0       1.0  \n",
       "1       2.0  \n",
       "2       1.0  \n",
       "3       1.0  \n",
       "4       1.0  "
      ]
     },
     "execution_count": 7,
     "metadata": {},
     "output_type": "execute_result"
    }
   ],
   "source": [
    "# copy the data\n",
    "train_df = train.copy()\n",
    "\n",
    "# Drop cabin column \n",
    "train_df.drop(columns=['Cabin', \"Ticket\", \"Name\"], inplace=True)\n",
    "# rename a column name\n",
    "train_df.rename(columns={'Sex': \"Gender\"}, inplace=True)\n",
    "\n",
    "# replace some categorical variable to numeric\n",
    "train_df.replace([\"male\", \"female\", 'S', \"C\", \"Q\"], [1, 0, 1, 2, 3], inplace=True)\n",
    "train_df.head()"
   ]
  },
  {
   "cell_type": "code",
   "execution_count": 8,
   "id": "1cccfc99",
   "metadata": {},
   "outputs": [
    {
     "data": {
      "text/plain": [
       "False"
      ]
     },
     "execution_count": 8,
     "metadata": {},
     "output_type": "execute_result"
    }
   ],
   "source": [
    "from sklearn.impute import SimpleImputer as SI\n",
    "\n",
    "# fill in missing values\n",
    "embarked = SI(strategy='most_frequent')\n",
    "age = SI(strategy='mean')\n",
    "\n",
    "# fit and transform the embarked data\n",
    "train_df.Embarked = embarked.fit_transform(train_df[['Embarked']])\n",
    "\n",
    "# fit and transform age\n",
    "transformed = age.fit_transform(train_df[['Age']])\n",
    "train_df['Age'] = np.round(transformed)\n",
    "train_df.Age.isna().any()"
   ]
  },
  {
   "cell_type": "markdown",
   "id": "f502f479",
   "metadata": {},
   "source": [
    "* Looks like it's not a regression problem but rather a classification problem "
   ]
  },
  {
   "cell_type": "code",
   "execution_count": 9,
   "id": "cb05c174",
   "metadata": {},
   "outputs": [
    {
     "name": "stdout",
     "output_type": "stream",
     "text": [
      "0.17164179104477612 0.2126865671641791 0.3283582089552239 0.2947761194029851 0.20522388059701493\n"
     ]
    }
   ],
   "source": [
    "# trying out models\n",
    "from sklearn.ensemble import RandomForestClassifier as RFC\n",
    "from sklearn.tree import DecisionTreeClassifier as DTC\n",
    "from sklearn.neighbors import KNeighborsClassifier as KNC\n",
    "from sklearn.svm import  SVC\n",
    "from sklearn.neural_network import MLPClassifier as MLPC\n",
    "from sklearn.model_selection import train_test_split as tts, cross_val_score as cvs\n",
    "from sklearn.metrics import mean_absolute_error as Mae\n",
    "\n",
    "x = train_df.drop(columns=['Survived', \"PassengerId\"])\n",
    "y = train_df['Survived']\n",
    "\n",
    "xtr, xte, ytr, yte = tts(x, y, test_size=.3)\n",
    "\n",
    "def run_model(model, xin=xtr, xval=xte, yin=ytr, yval=yte):\n",
    "    '''This function runs models, there are already some default values for xin, xval, yin, yval'''\n",
    "    Model = model\n",
    "    Model.fit(xin, yin)\n",
    "    prediction = Model.predict(xval)\n",
    "    mae = Mae(yval, prediction)\n",
    "    return mae\n",
    "\n",
    "# Random forest\n",
    "\n",
    "m1 = run_model(RFC(n_estimators=100, random_state=0, criterion='entropy', max_depth=7))\n",
    "m2 = run_model(DTC(max_leaf_nodes=100, random_state=0, criterion='entropy'))\n",
    "m3 = run_model(KNC(n_neighbors=5))\n",
    "m4 = run_model(SVC(gamma='auto', random_state=0))\n",
    "m5  = run_model(MLPC(activation='relu', batch_size=150, solver='adam', learning_rate='adaptive', learning_rate_init=0.001))\n",
    "print(m1, m2, m3, m4, m5)"
   ]
  },
  {
   "cell_type": "code",
   "execution_count": 10,
   "id": "63d53916",
   "metadata": {},
   "outputs": [
    {
     "name": "stdout",
     "output_type": "stream",
     "text": [
      "<class 'pandas.core.frame.DataFrame'>\n",
      "RangeIndex: 418 entries, 0 to 417\n",
      "Data columns (total 11 columns):\n",
      " #   Column       Non-Null Count  Dtype  \n",
      "---  ------       --------------  -----  \n",
      " 0   PassengerId  418 non-null    int64  \n",
      " 1   Pclass       418 non-null    int64  \n",
      " 2   Name         418 non-null    object \n",
      " 3   Sex          418 non-null    object \n",
      " 4   Age          332 non-null    float64\n",
      " 5   SibSp        418 non-null    int64  \n",
      " 6   Parch        418 non-null    int64  \n",
      " 7   Ticket       418 non-null    object \n",
      " 8   Fare         417 non-null    float64\n",
      " 9   Cabin        91 non-null     object \n",
      " 10  Embarked     418 non-null    object \n",
      "dtypes: float64(2), int64(4), object(5)\n",
      "memory usage: 36.1+ KB\n"
     ]
    }
   ],
   "source": [
    "test.info()"
   ]
  },
  {
   "cell_type": "code",
   "execution_count": 11,
   "id": "c45679c8",
   "metadata": {},
   "outputs": [
    {
     "data": {
      "text/html": [
       "<div>\n",
       "<style scoped>\n",
       "    .dataframe tbody tr th:only-of-type {\n",
       "        vertical-align: middle;\n",
       "    }\n",
       "\n",
       "    .dataframe tbody tr th {\n",
       "        vertical-align: top;\n",
       "    }\n",
       "\n",
       "    .dataframe thead th {\n",
       "        text-align: right;\n",
       "    }\n",
       "</style>\n",
       "<table border=\"1\" class=\"dataframe\">\n",
       "  <thead>\n",
       "    <tr style=\"text-align: right;\">\n",
       "      <th></th>\n",
       "      <th>Pclass</th>\n",
       "      <th>Gender</th>\n",
       "      <th>Age</th>\n",
       "      <th>SibSp</th>\n",
       "      <th>Parch</th>\n",
       "      <th>Fare</th>\n",
       "      <th>Embarked</th>\n",
       "    </tr>\n",
       "  </thead>\n",
       "  <tbody>\n",
       "    <tr>\n",
       "      <th>0</th>\n",
       "      <td>3</td>\n",
       "      <td>1</td>\n",
       "      <td>34.5</td>\n",
       "      <td>0</td>\n",
       "      <td>0</td>\n",
       "      <td>7.8292</td>\n",
       "      <td>3</td>\n",
       "    </tr>\n",
       "    <tr>\n",
       "      <th>1</th>\n",
       "      <td>3</td>\n",
       "      <td>0</td>\n",
       "      <td>47.0</td>\n",
       "      <td>1</td>\n",
       "      <td>0</td>\n",
       "      <td>7.0000</td>\n",
       "      <td>1</td>\n",
       "    </tr>\n",
       "    <tr>\n",
       "      <th>2</th>\n",
       "      <td>2</td>\n",
       "      <td>1</td>\n",
       "      <td>62.0</td>\n",
       "      <td>0</td>\n",
       "      <td>0</td>\n",
       "      <td>9.6875</td>\n",
       "      <td>3</td>\n",
       "    </tr>\n",
       "    <tr>\n",
       "      <th>3</th>\n",
       "      <td>3</td>\n",
       "      <td>1</td>\n",
       "      <td>27.0</td>\n",
       "      <td>0</td>\n",
       "      <td>0</td>\n",
       "      <td>8.6625</td>\n",
       "      <td>1</td>\n",
       "    </tr>\n",
       "    <tr>\n",
       "      <th>4</th>\n",
       "      <td>3</td>\n",
       "      <td>0</td>\n",
       "      <td>22.0</td>\n",
       "      <td>1</td>\n",
       "      <td>1</td>\n",
       "      <td>12.2875</td>\n",
       "      <td>1</td>\n",
       "    </tr>\n",
       "    <tr>\n",
       "      <th>...</th>\n",
       "      <td>...</td>\n",
       "      <td>...</td>\n",
       "      <td>...</td>\n",
       "      <td>...</td>\n",
       "      <td>...</td>\n",
       "      <td>...</td>\n",
       "      <td>...</td>\n",
       "    </tr>\n",
       "    <tr>\n",
       "      <th>413</th>\n",
       "      <td>3</td>\n",
       "      <td>1</td>\n",
       "      <td>NaN</td>\n",
       "      <td>0</td>\n",
       "      <td>0</td>\n",
       "      <td>8.0500</td>\n",
       "      <td>1</td>\n",
       "    </tr>\n",
       "    <tr>\n",
       "      <th>414</th>\n",
       "      <td>1</td>\n",
       "      <td>0</td>\n",
       "      <td>39.0</td>\n",
       "      <td>0</td>\n",
       "      <td>0</td>\n",
       "      <td>108.9000</td>\n",
       "      <td>2</td>\n",
       "    </tr>\n",
       "    <tr>\n",
       "      <th>415</th>\n",
       "      <td>3</td>\n",
       "      <td>1</td>\n",
       "      <td>38.5</td>\n",
       "      <td>0</td>\n",
       "      <td>0</td>\n",
       "      <td>7.2500</td>\n",
       "      <td>1</td>\n",
       "    </tr>\n",
       "    <tr>\n",
       "      <th>416</th>\n",
       "      <td>3</td>\n",
       "      <td>1</td>\n",
       "      <td>NaN</td>\n",
       "      <td>0</td>\n",
       "      <td>0</td>\n",
       "      <td>8.0500</td>\n",
       "      <td>1</td>\n",
       "    </tr>\n",
       "    <tr>\n",
       "      <th>417</th>\n",
       "      <td>3</td>\n",
       "      <td>1</td>\n",
       "      <td>NaN</td>\n",
       "      <td>1</td>\n",
       "      <td>1</td>\n",
       "      <td>22.3583</td>\n",
       "      <td>2</td>\n",
       "    </tr>\n",
       "  </tbody>\n",
       "</table>\n",
       "<p>418 rows × 7 columns</p>\n",
       "</div>"
      ],
      "text/plain": [
       "     Pclass  Gender   Age  SibSp  Parch      Fare  Embarked\n",
       "0         3       1  34.5      0      0    7.8292         3\n",
       "1         3       0  47.0      1      0    7.0000         1\n",
       "2         2       1  62.0      0      0    9.6875         3\n",
       "3         3       1  27.0      0      0    8.6625         1\n",
       "4         3       0  22.0      1      1   12.2875         1\n",
       "..      ...     ...   ...    ...    ...       ...       ...\n",
       "413       3       1   NaN      0      0    8.0500         1\n",
       "414       1       0  39.0      0      0  108.9000         2\n",
       "415       3       1  38.5      0      0    7.2500         1\n",
       "416       3       1   NaN      0      0    8.0500         1\n",
       "417       3       1   NaN      1      1   22.3583         2\n",
       "\n",
       "[418 rows x 7 columns]"
      ]
     },
     "execution_count": 11,
     "metadata": {},
     "output_type": "execute_result"
    }
   ],
   "source": [
    "from sklearn.preprocessing import MinMaxScaler\n",
    "# trying model 1\n",
    "final = test.copy()\n",
    "final.drop(columns=[\"Cabin\", \"Ticket\", 'Name', \"PassengerId\"], inplace=True)\n",
    "# null columns: Age, Fare\n",
    "final.replace([\"male\", \"female\", 'S', \"C\", \"Q\"], [1, 0, 1, 2, 3], inplace=True)\n",
    "final.rename(columns={'Sex': \"Gender\"}, inplace=True)\n",
    "\n",
    "# normalize\n",
    "norm = MinMaxScaler()\n",
    "final"
   ]
  },
  {
   "cell_type": "code",
   "execution_count": 39,
   "id": "ee7c20d7",
   "metadata": {},
   "outputs": [],
   "source": [
    "# imputations\n",
    "im_age = age.fit_transform(final[[\"Age\"]])\n",
    "im_fare = age.fit_transform(final[['Fare']])\n",
    "final[\"Age\"] = np.round(im_age)\n",
    "final[\"Fare\"] = np.round(im_fare)\n",
    "final[\"Fare\"] = norm.fit_transform(np.array(final.Fare).reshape(-1, 1))\n",
    "\n",
    "\n",
    "# model 1\n",
    "fmodel = RFC(n_estimators=100, random_state=0, criterion='entropy', max_depth=7)\n",
    "fmodel.fit(x, y)\n",
    "\n",
    "preds = fmodel.predict(final)\n",
    "\n"
   ]
  },
  {
   "cell_type": "code",
   "execution_count": 40,
   "id": "701b4072",
   "metadata": {},
   "outputs": [],
   "source": [
    "\n",
    "# model 2\n",
    "fmodel02 = DTC(max_leaf_nodes=100, criterion='entropy', random_state=0)\n",
    "fmodel02.fit(x, y)\n",
    "preds02 = fmodel02.predict(final)\n",
    "\n",
    "result = pd.DataFrame({'PassengerId': test.PassengerId,\n",
    "                       \"Survived\": preds02})\n",
    "\n",
    "# result.to_csv(\"submit_dtc.csv\", index=False)"
   ]
  },
  {
   "cell_type": "code",
   "execution_count": 41,
   "id": "dc4b2a12",
   "metadata": {},
   "outputs": [],
   "source": [
    "# model 3\n",
    "model = MLPC(activation='relu', batch_size=150, solver='adam', learning_rate='adaptive')\n",
    "model.fit(x, y)\n",
    "preds03 = model.predict(final)\n",
    "\n",
    "\n",
    "result2 = pd.DataFrame({'PassengerId': test.PassengerId,\n",
    "                       \"Survived\": preds03})\n",
    "\n",
    "# result2.to_csv(\"submit_mlpc.csv\", index=False)"
   ]
  },
  {
   "cell_type": "code",
   "execution_count": 42,
   "id": "19db0dd9",
   "metadata": {},
   "outputs": [],
   "source": [
    "# model4\n",
    "model4 = KNC()\n",
    "model4.fit(x, y)\n",
    "preds4 = model4.predict(final)\n",
    "\n",
    "\n",
    "result2 = pd.DataFrame({'PassengerId': test.PassengerId,\n",
    "                       \"Survived\": preds4})\n",
    "\n",
    "# result2.to_csv(\"submit_knc.csv\", index=False)"
   ]
  },
  {
   "cell_type": "code",
   "execution_count": 43,
   "id": "8fd6e11a",
   "metadata": {},
   "outputs": [],
   "source": [
    "from sklearn.linear_model import SGDClassifier as SGDC\n",
    "\n",
    "model5 = SGDC(loss='squared_error', max_iter=100, random_state=0)\n",
    "model5.fit(x, y)\n",
    "ans = model5.predict(final)\n",
    "\n",
    "result2 = pd.DataFrame({'PassengerId': test.PassengerId,\n",
    "                       \"Survived\": ans})\n",
    "\n",
    "# result2.to_csv(\"submit_sgdc.csv\", index=False)"
   ]
  },
  {
   "cell_type": "markdown",
   "id": "babd0666",
   "metadata": {},
   "source": [
    "* Internidiate Machine Learning"
   ]
  },
  {
   "cell_type": "code",
   "execution_count": 45,
   "id": "ae121b7a",
   "metadata": {},
   "outputs": [
    {
     "ename": "ModuleNotFoundError",
     "evalue": "No module named 'xgboost'",
     "output_type": "error",
     "traceback": [
      "\u001b[1;31m---------------------------------------------------------------------------\u001b[0m",
      "\u001b[1;31mModuleNotFoundError\u001b[0m                       Traceback (most recent call last)",
      "Cell \u001b[1;32mIn[45], line 7\u001b[0m\n\u001b[0;32m      5\u001b[0m \u001b[38;5;28;01mfrom\u001b[39;00m \u001b[38;5;21;01msklearn\u001b[39;00m\u001b[38;5;21;01m.\u001b[39;00m\u001b[38;5;21;01mimpute\u001b[39;00m \u001b[38;5;28;01mimport\u001b[39;00m IterativeImputer \u001b[38;5;28;01mas\u001b[39;00m II\n\u001b[0;32m      6\u001b[0m \u001b[38;5;28;01mfrom\u001b[39;00m \u001b[38;5;21;01msklearn\u001b[39;00m\u001b[38;5;21;01m.\u001b[39;00m\u001b[38;5;21;01mpreprocessing\u001b[39;00m \u001b[38;5;28;01mimport\u001b[39;00m OneHotEncoder \u001b[38;5;28;01mas\u001b[39;00m OHE, StandardScaler\n\u001b[1;32m----> 7\u001b[0m \u001b[38;5;28;01mfrom\u001b[39;00m \u001b[38;5;21;01mxgboost\u001b[39;00m \u001b[38;5;28;01mimport\u001b[39;00m XGBClassifier \u001b[38;5;28;01mas\u001b[39;00m XGBC\n\u001b[0;32m      9\u001b[0m \u001b[38;5;66;03m# Data\u001b[39;00m\n\u001b[0;32m     10\u001b[0m training \u001b[38;5;241m=\u001b[39m train\u001b[38;5;241m.\u001b[39mcopy()\n",
      "\u001b[1;31mModuleNotFoundError\u001b[0m: No module named 'xgboost'"
     ]
    }
   ],
   "source": [
    "# Bismillah\n",
    "from sklearn.compose import ColumnTransformer as CT, make_column_selector as mks\n",
    "from sklearn.pipeline import Pipeline\n",
    "from sklearn.experimental import enable_iterative_imputer\n",
    "from sklearn.impute import IterativeImputer as II\n",
    "from sklearn.preprocessing import OneHotEncoder as OHE, StandardScaler\n",
    "from xgboost import XGBClassifier as XGBC\n",
    "\n",
    "# Data\n",
    "training = train.copy()\n",
    "training.info()\n",
    "testing = test.copy()"
   ]
  },
  {
   "cell_type": "code",
   "execution_count": null,
   "id": "e5bef1a4",
   "metadata": {},
   "outputs": [],
   "source": [
    "# First let's start with a simple pipeline of the best model\n",
    "\n",
    "# Selecting columns\n",
    "drop = [\"Cabin\", \"Ticket\", 'Name', \"PassengerId\"]\n",
    "x_fea = training.drop(drop + ['Survived'], axis=1)\n",
    "y_fea = training[\"Survived\"]\n",
    "\n",
    "# splitting the data\n",
    "xtr, xte, ytr, yte = tts(x_fea, y_fea, test_size=.2)\n",
    "\n",
    "# imputers\n",
    "simple = SI(strategy='most_frequent')\n",
    "imputer = II(max_iter=100, random_state=0)\n",
    "\n",
    "training['Embarked'] = simple.fit_transform(training[['Embarked']])\n",
    "\n",
    "# columns\n",
    "processor = CT(transformers=[(\"Categorical\", OHE(handle_unknown='ignore'), mks(dtype_include='object')),\n",
    "                             (\"Numerical\", imputer, [\"Age\"]),\n",
    "                             (\"Scaler\", StandardScaler(), mks(dtype_exclude='object'))])\n",
    "\n",
    "# pipeline\n",
    "mypipe = Pipeline(steps=[(\"Preprocessing\", processor),\n",
    "                         ('model', XGBC(n_estimator=500, learning_rate=0.01))])\n",
    "\n",
    "\n",
    "# run_model(mypipe, xin=xtr, xval=ytr, yin=xte, yval=yte)\n",
    "mypipe.fit(xtr, ytr)\n",
    "\n",
    "pipe_preds = mypipe.predict(xte)\n",
    "Mae(yte, pipe_preds)\n"
   ]
  },
  {
   "cell_type": "code",
   "execution_count": null,
   "id": "ead5b69a",
   "metadata": {},
   "outputs": [],
   "source": [
    "testing = testing.drop(drop, axis=1)"
   ]
  },
  {
   "cell_type": "code",
   "execution_count": null,
   "id": "23c1ef45",
   "metadata": {},
   "outputs": [],
   "source": [
    "mypipe.fit(x_fea, y_fea)\n",
    "PipePreds = mypipe.predict(testing)\n",
    "\n",
    "data = pd.DataFrame({\"PassengerId\": test.PassengerId,\n",
    "                     \"Survived\": PipePreds})\n",
    "\n",
    "data.to_csv('Pipeline_sb.csv', index=False)\n"
   ]
  },
  {
   "cell_type": "markdown",
   "id": "83d19ac3",
   "metadata": {},
   "source": [
    "* Neural Networks"
   ]
  },
  {
   "cell_type": "code",
   "execution_count": null,
   "id": "7648cdf9",
   "metadata": {},
   "outputs": [],
   "source": [
    "from tensorflow import keras\n",
    "from tensorflow.keras import layers\n",
    "\n",
    "# drop noisy data\n",
    "x.drop('Fare', axis=1, inplace=True)\n",
    "final.drop('Fare', axis=1, inplace=True)"
   ]
  },
  {
   "cell_type": "code",
   "execution_count": null,
   "id": "7ced4a20",
   "metadata": {},
   "outputs": [],
   "source": [
    "# splitting data for validation\n",
    "xtrain, xtest, ytrain, ytest = tts(x, y, test_size=.2)\n",
    "\n",
    "# input shape\n",
    "inpshape = x.shape[1]\n",
    "\n",
    "# callback\n",
    "call = keras.callbacks.EarlyStopping(min_delta=0.001, patience=10, restore_best_weights=True)\n",
    "\n",
    "nnmodel = keras.Sequential([\n",
    "    layers.Dense(16, activation=\"relu\", input_shape=[inpshape]),\n",
    "    layers.BatchNormalization(),\n",
    "    layers.Dense(32, activation='relu'),\n",
    "    layers.BatchNormalization(),\n",
    "    layers.Dense(64, activation='relu'),\n",
    "    layers.BatchNormalization(),\n",
    "    layers.Dense(64, activation='relu'),\n",
    "    layers.BatchNormalization(),\n",
    "    layers.Dense(1, activation='sigmoid')\n",
    "])\n",
    "# I'll be back to fix it!!\n",
    "nnmodel.compile(optimizer='Adam', loss='binary_crossentropy', metrics=['binary_accuracy'])\n",
    "history = nnmodel.fit(xtrain, ytrain,\n",
    "                    validation_data=(xtest, ytest),\n",
    "                    batch_size=512,\n",
    "                    epochs=1000,\n",
    "                    callbacks=[call])\n"
   ]
  },
  {
   "cell_type": "code",
   "execution_count": null,
   "id": "3ec524b2",
   "metadata": {},
   "outputs": [],
   "source": [
    "\n",
    "data = pd.DataFrame(history.history)\n",
    "data[['loss', 'val_loss']].plot()\n",
    "data[['binary_accuracy', 'val_binary_accuracy']].plot()\n",
    "plt.show()"
   ]
  },
  {
   "cell_type": "code",
   "execution_count": null,
   "id": "16f100aa",
   "metadata": {},
   "outputs": [],
   "source": [
    "# perdiction\n",
    "preds_nn = nnmodel.predict(final).astype(int)\n",
    "# reshape it to a one dimensional array\n",
    "reshaped = preds_nn.reshape(-1)\n",
    "\n",
    "nnpreds = pd.DataFrame({\"PassengerId\": test.PassengerId,\n",
    "    \"Survived\": reshaped})\n",
    "\n",
    "nnpreds.to_csv(\"nn_submitions04.csv\", index=False)\n"
   ]
  },
  {
   "cell_type": "markdown",
   "id": "7b648e03",
   "metadata": {},
   "source": [
    "# Feature Engineering\n",
    "* Explore data\n",
    "* Mutual Infromation\n",
    "* Making new features\n",
    "* Clustering\n",
    "* PCA(Unsupervised Machine Learning)\n",
    "* Target Encoding(supervised Machine Learning)"
   ]
  },
  {
   "cell_type": "code",
   "execution_count": null,
   "id": "995e45f8",
   "metadata": {},
   "outputs": [],
   "source": [
    "from sklearn.decomposition import PCA\n",
    "from sklearn.feature_selection import mutual_info_classif as mic\n",
    "\n",
    "df = train.copy()\n",
    "\n",
    "df.drop('PassengerId', inplace=True, axis=1)\n",
    "\n",
    "feature_num = df.shape[1]\n",
    "\n",
    "df.describe(include='all')"
   ]
  },
  {
   "cell_type": "markdown",
   "id": "144e0b50",
   "metadata": {},
   "source": [
    "* PassengerId: Ignore\n",
    "* survived: we have to treat it as if  it were categorical.\n",
    "* Plcass: same as \"survived\"\n",
    "* Name: Let's see what we can get from the title\n",
    "* Sex: Male or Female\n",
    "* Age: age of individual\n",
    "* SibSP: Siblings or spouse\n",
    "* Parch: Parent or child\n",
    "* Ticket: The ticket number\n",
    "* Fare: Amount paid\n",
    "* cabin: The cabin number\n",
    "* embarked: Where the passenger embarked from"
   ]
  },
  {
   "cell_type": "code",
   "execution_count": null,
   "id": "fc7f3cfc",
   "metadata": {},
   "outputs": [],
   "source": [
    "df.info()"
   ]
  },
  {
   "cell_type": "code",
   "execution_count": null,
   "id": "7bc5cdd5",
   "metadata": {},
   "outputs": [],
   "source": [
    "df.head()"
   ]
  },
  {
   "cell_type": "code",
   "execution_count": null,
   "id": "b4eedf83",
   "metadata": {},
   "outputs": [],
   "source": [
    "import re\n",
    "# Turn Survived and Pclass into cat data\n",
    "df['Survived'] = df.Survived.astype('object')\n",
    "df['Pclass'] = df.Pclass.astype('object')\n",
    "\n",
    "# Name Title\n",
    "# using regex\n",
    "compiler = re.compile(r\"[a-zA-Z]+\\.\")\n",
    "\n",
    "# Regular expression to find titles (e.g., Rev., Dr., etc.)\n",
    "data = df.Name.apply(lambda x: str(compiler.findall(x)[0]))\n",
    "data.unique()"
   ]
  },
  {
   "cell_type": "code",
   "execution_count": null,
   "id": "2be63a91",
   "metadata": {},
   "outputs": [],
   "source": [
    "df['Name'] = data\n",
    "df.Name.value_counts()"
   ]
  },
  {
   "cell_type": "code",
   "execution_count": null,
   "id": "4c85257c",
   "metadata": {},
   "outputs": [],
   "source": [
    "import plotly.graph_objs as go\n",
    "import plotly.offline as pyo\n",
    "from plotly.offline import iplot\n",
    "\n",
    "# Create a bar chart\n",
    "data = go.Bar(\n",
    "            x=df.Name.unique(),\n",
    "            y=df['Name'].value_counts()\n",
    ")\n",
    "\n",
    "# Create a layout, if you want to customize the chart\n",
    "layout = go.Layout(\n",
    "    title='Titles of passengers',\n",
    "    xaxis=dict(title='Titles'),\n",
    "    yaxis=dict(title='Frequency'),\n",
    ")\n",
    "\n",
    "# Create a figure with the data and layout\n",
    "fig = go.Figure(data=data, layout=layout)\n",
    "\n",
    "# Plot the figure\n",
    "# pyo.plot(fig, filename='bar_chart.html', auto_open=False)\n",
    "iplot(fig)"
   ]
  },
  {
   "cell_type": "code",
   "execution_count": null,
   "id": "f2e2d918",
   "metadata": {},
   "outputs": [],
   "source": [
    "# Make a new column \"Family\" then work on tickets\n",
    "df['Family'] = df.Parch + df.SibSp + 1\n",
    "\n",
    "tickets = df.Ticket.apply(lambda x: \"\".join(re.findall(r'^[a-zA-z]', str(x))) )\n",
    "\n",
    "tickets.replace({'': \"N\"}, inplace=True)\n",
    "\n",
    "df['Ticket'] = tickets"
   ]
  },
  {
   "cell_type": "code",
   "execution_count": null,
   "id": "18a3fdb4",
   "metadata": {},
   "outputs": [],
   "source": [
    "# Finally the Cabin feature\n",
    "\n",
    "# Getting the first letter\n",
    "cabin = df.Cabin.apply(lambda x: str(x)[0])\n",
    "\n",
    "# print the unique values\n",
    "\n",
    "cabin.value_counts()\n",
    "\n",
    "df['Cabin'] = cabin\n",
    "df"
   ]
  },
  {
   "cell_type": "code",
   "execution_count": null,
   "id": "17224488",
   "metadata": {},
   "outputs": [],
   "source": [
    "# looks like \"Age\" still has some missing values\n",
    "# so we have an imputer defined somewhere so let's just use it\n",
    "filled_age = imputer.fit_transform(np.array(df.Age).reshape(-1, 1))\n",
    "\n",
    "df['Age'] = np.round(filled_age, 1)\n",
    "\n",
    "df.describe(include='all')"
   ]
  },
  {
   "cell_type": "markdown",
   "id": "ae37579b",
   "metadata": {},
   "source": [
    "### Let's now compare the values and visualize"
   ]
  },
  {
   "cell_type": "code",
   "execution_count": 38,
   "id": "840d9e3d",
   "metadata": {},
   "outputs": [
    {
     "ename": "NameError",
     "evalue": "name 'df' is not defined",
     "output_type": "error",
     "traceback": [
      "\u001b[1;31m---------------------------------------------------------------------------\u001b[0m",
      "\u001b[1;31mNameError\u001b[0m                                 Traceback (most recent call last)",
      "Cell \u001b[1;32mIn[38], line 5\u001b[0m\n\u001b[0;32m      2\u001b[0m fig, axes \u001b[38;5;241m=\u001b[39m plt\u001b[38;5;241m.\u001b[39msubplots(nrows\u001b[38;5;241m=\u001b[39m\u001b[38;5;241m3\u001b[39m, ncols\u001b[38;5;241m=\u001b[39m\u001b[38;5;241m2\u001b[39m, figsize\u001b[38;5;241m=\u001b[39m(\u001b[38;5;241m16\u001b[39m, \u001b[38;5;241m16\u001b[39m))\n\u001b[0;32m      4\u001b[0m \u001b[38;5;66;03m# pclass\u001b[39;00m\n\u001b[1;32m----> 5\u001b[0m sb\u001b[38;5;241m.\u001b[39mcountplot(data\u001b[38;5;241m=\u001b[39mdf, x\u001b[38;5;241m=\u001b[39m\u001b[38;5;124m\"\u001b[39m\u001b[38;5;124mPclass\u001b[39m\u001b[38;5;124m\"\u001b[39m, ax\u001b[38;5;241m=\u001b[39maxes[\u001b[38;5;241m0\u001b[39m, \u001b[38;5;241m0\u001b[39m])\n\u001b[0;32m      7\u001b[0m \u001b[38;5;66;03m# cabin col\u001b[39;00m\n\u001b[0;32m      8\u001b[0m df\u001b[38;5;241m.\u001b[39mCabin\u001b[38;5;241m.\u001b[39mvalue_counts()\u001b[38;5;241m.\u001b[39msort_values(ascending\u001b[38;5;241m=\u001b[39m\u001b[38;5;28;01mFalse\u001b[39;00m)\u001b[38;5;241m.\u001b[39mplot(kind\u001b[38;5;241m=\u001b[39m\u001b[38;5;124m'\u001b[39m\u001b[38;5;124mbar\u001b[39m\u001b[38;5;124m'\u001b[39m, ax\u001b[38;5;241m=\u001b[39maxes[\u001b[38;5;241m0\u001b[39m, \u001b[38;5;241m1\u001b[39m])\n",
      "\u001b[1;31mNameError\u001b[0m: name 'df' is not defined"
     ]
    },
    {
     "data": {
      "image/png": "[encoded data removed]",
      "text/plain": [
       "<Figure size 1600x1600 with 6 Axes>"
      ]
     },
     "metadata": {},
     "output_type": "display_data"
    }
   ],
   "source": [
    "# Subplots\n",
    "fig, axes = plt.subplots(nrows=3, ncols=2, figsize=(16, 16))\n",
    "\n",
    "# pclass\n",
    "sb.countplot(data=df, x=\"Pclass\", ax=axes[0, 0])\n",
    "\n",
    "# cabin col\n",
    "df.Cabin.value_counts().sort_values(ascending=False).plot(kind='bar', ax=axes[0, 1])\n",
    "\n",
    "# A histplot of age\n",
    "sb.histplot(x=df.Age, ax=axes[1, 0], kde=True)\n",
    "\n",
    "# Title: number of people that survived with respect to title \n",
    "title_sur = df.pivot_table(index='Name', columns='Survived', aggfunc='size', fill_value=0)\n",
    "\n",
    "title_sur = title_sur.rename(columns={0: \"died\", 1:\"Lived\"})\n",
    "\n",
    "title_sur.plot(kind='barh', ax=axes[1, 1])\n",
    "\n",
    "# a boxplot of Family \n",
    "sb.histplot(x=df.Family, ax=axes[2, 0], kde=True)\n",
    "\n",
    "# The ticket plot\n",
    "sb.countplot(x=df.Ticket, ax=axes[2, 1])\n",
    "\n",
    "plt.show()"
   ]
  }
 ],
 "metadata": {
  "kaggle": {
   "accelerator": "none",
   "dataSources": [
    {
     "databundleVersionId": 26502,
     "sourceId": 3136,
     "sourceType": "competition"
    },
    {
     "datasetId": 56596,
     "sourceId": 396588,
     "sourceType": "datasetVersion"
    }
   ],
   "dockerImageVersionId": 30587,
   "isGpuEnabled": false,
   "isInternetEnabled": true,
   "language": "python",
   "sourceType": "notebook"
  },
  "kernelspec": {
   "display_name": "Python 3 (ipykernel)",
   "language": "python",
   "name": "python3"
  },
  "language_info": {
   "codemirror_mode": {
    "name": "ipython",
    "version": 3
   },
   "file_extension": ".py",
   "mimetype": "text/x-python",
   "name": "python",
   "nbconvert_exporter": "python",
   "pygments_lexer": "ipython3",
   "version": "3.11.7"
  },
  "papermill": {
   "default_parameters": {},
   "duration": 18.06776,
   "end_time": "2023-12-22T23:22:10.294210",
   "environment_variables": {},
   "exception": null,
   "input_path": "__notebook__.ipynb",
   "output_path": "__notebook__.ipynb",
   "parameters": {},
   "start_time": "2023-12-22T23:21:52.226450",
   "version": "2.4.0"
  }
 },
 "nbformat": 4,
 "nbformat_minor": 5
}
