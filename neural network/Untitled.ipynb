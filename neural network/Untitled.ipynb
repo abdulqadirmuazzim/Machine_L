{
 "cells": [
  {
   "cell_type": "code",
   "execution_count": 1,
   "id": "cdd456ba",
   "metadata": {},
   "outputs": [
    {
     "ename": "NameError",
     "evalue": "name 'pd' is not defined",
     "output_type": "error",
     "traceback": [
      "\u001b[1;31m---------------------------------------------------------------------------\u001b[0m",
      "\u001b[1;31mNameError\u001b[0m                                 Traceback (most recent call last)",
      "Input \u001b[1;32mIn [1]\u001b[0m, in \u001b[0;36m<cell line: 1>\u001b[1;34m()\u001b[0m\n\u001b[1;32m----> 1\u001b[0m start \u001b[38;5;241m=\u001b[39m \u001b[43mpd\u001b[49m\u001b[38;5;241m.\u001b[39mread_excel(\u001b[38;5;124m'\u001b[39m\u001b[38;5;124medited_copy_30,000.xlsx\u001b[39m\u001b[38;5;124m'\u001b[39m)\n\u001b[0;32m      2\u001b[0m start\n",
      "\u001b[1;31mNameError\u001b[0m: name 'pd' is not defined"
     ]
    }
   ],
   "source": [
    "start = pd.read_excel('edited_copy_30,000.xlsx')\n",
    "start"
   ]
  },
  {
   "cell_type": "code",
   "execution_count": null,
   "id": "51457caa",
   "metadata": {
    "scrolled": true
   },
   "outputs": [],
   "source": [
    "lis = [index +start['S/N'].iloc[0] for index in range(len(start))]\n",
    "    \n",
    "    \n",
    "start['S/N'] = lis\n",
    "start"
   ]
  },
  {
   "cell_type": "markdown",
   "id": "985bc648",
   "metadata": {},
   "source": [
    "## second batch of the file \n",
    "Tihs contains 70,000 rows"
   ]
  },
  {
   "cell_type": "code",
   "execution_count": null,
   "id": "61f8fd09",
   "metadata": {},
   "outputs": [],
   "source": [
    "import pandas as pd\n",
    "\n",
    "file = pd.read_excel('seg2 70,000.xlsx')\n",
    "file.columns"
   ]
  },
  {
   "cell_type": "code",
   "execution_count": null,
   "id": "1adfca39",
   "metadata": {},
   "outputs": [],
   "source": [
    "store = file['CONTACT'].apply(lambda a:None if len(str(a)) < 10 else a)\n",
    "file.CONTACT = store\n",
    "file = file.dropna()\n",
    "file"
   ]
  },
  {
   "cell_type": "code",
   "execution_count": null,
   "id": "0f950941",
   "metadata": {},
   "outputs": [],
   "source": [
    "lis = [index + 1 + start['S/N'].iloc[-1] for index in range(len(file))]\n",
    "    \n",
    "    \n",
    "file['S/N'] = lis\n",
    "file"
   ]
  },
  {
   "cell_type": "markdown",
   "id": "923f9a89",
   "metadata": {},
   "source": [
    "## Third batch of the file \n",
    "This contains 100,000 rows"
   ]
  },
  {
   "cell_type": "code",
   "execution_count": null,
   "id": "f357a4fc",
   "metadata": {},
   "outputs": [],
   "source": [
    "file2 = pd.read_excel('seg3 100,000.xlsx')\n",
    "file2.columns"
   ]
  },
  {
   "cell_type": "code",
   "execution_count": null,
   "id": "440beb13",
   "metadata": {},
   "outputs": [],
   "source": [
    "store = file2['CONTACT'].apply(lambda a:None if len(str(a)) < 10 else a)\n",
    "file2.CONTACT = store\n",
    "file2 = file2.dropna()\n",
    "# file2"
   ]
  },
  {
   "cell_type": "code",
   "execution_count": null,
   "id": "04927e88",
   "metadata": {},
   "outputs": [],
   "source": [
    "file['S/N'].iloc[-1]"
   ]
  },
  {
   "cell_type": "code",
   "execution_count": null,
   "id": "e89d4534",
   "metadata": {},
   "outputs": [],
   "source": [
    "lis = [index + 1 + file['S/N'].iloc[-1] for index in range(len(file2))]\n",
    "    \n",
    "    \n",
    "file2['S/N'] = lis\n",
    "file2"
   ]
  },
  {
   "cell_type": "markdown",
   "id": "a45b8f8f",
   "metadata": {},
   "source": [
    "## Fourth batch of the file\n",
    "This contains 100,000 rows"
   ]
  },
  {
   "cell_type": "code",
   "execution_count": null,
   "id": "e5630ace",
   "metadata": {},
   "outputs": [],
   "source": [
    "file3 = pd.read_excel('seg4 100,000.xlsx')\n",
    "file3.columns"
   ]
  },
  {
   "cell_type": "code",
   "execution_count": null,
   "id": "a6e64870",
   "metadata": {},
   "outputs": [],
   "source": [
    "store = file3['CONTACT'].apply(lambda a:None if len(str(a)) < 10 else a)\n",
    "file3.CONTACT = store\n",
    "file3 = file3.dropna()\n",
    "# file3"
   ]
  },
  {
   "cell_type": "code",
   "execution_count": null,
   "id": "e01acb80",
   "metadata": {},
   "outputs": [],
   "source": [
    "lis = [index + 1 + file2['S/N'].iloc[-1] for index in range(len(file3))]\n",
    "    \n",
    "    \n",
    "file3['S/N'] = lis\n",
    "file3"
   ]
  },
  {
   "cell_type": "markdown",
   "id": "26fb4915",
   "metadata": {},
   "source": [
    "## Fifth batch of the file\n",
    "This contains the remaining contents of the master file"
   ]
  },
  {
   "cell_type": "code",
   "execution_count": null,
   "id": "5c0e6a44",
   "metadata": {},
   "outputs": [],
   "source": [
    "file4 = pd.read_excel('seg5_re.xlsx')\n",
    "file4.columns"
   ]
  },
  {
   "cell_type": "code",
   "execution_count": null,
   "id": "b4562c7d",
   "metadata": {},
   "outputs": [],
   "source": [
    "store = file4['CONTACT'].apply(lambda a:None if len(str(a)) < 10 else a)\n",
    "file4.CONTACT = store\n",
    "file4 = file4.dropna()\n",
    "file4"
   ]
  },
  {
   "cell_type": "code",
   "execution_count": null,
   "id": "61d90492",
   "metadata": {},
   "outputs": [],
   "source": [
    "lis = [index + 1 + file3['S/N'].iloc[-1] for index in range(len(file4))]\n",
    "    \n",
    "    \n",
    "file4['S/N'] = lis\n",
    "file4"
   ]
  },
  {
   "cell_type": "code",
   "execution_count": null,
   "id": "f2f9ae62",
   "metadata": {},
   "outputs": [],
   "source": [
    "# original number = 307149\n",
    "length = len(start)+ len(file) + len(file2) + len(file3) + len(file4)\n",
    "\n",
    "output = pd.concat([start,file, file2, file3, file4], axis=0)\n",
    "output"
   ]
  },
  {
   "cell_type": "code",
   "execution_count": null,
   "id": "2eee8b08",
   "metadata": {},
   "outputs": [],
   "source": [
    "output.to_excel('finished_work.xlsx', index=False)"
   ]
  }
 ],
 "metadata": {
  "kernelspec": {
   "display_name": "Python 3 (ipykernel)",
   "language": "python",
   "name": "python3"
  },
  "language_info": {
   "codemirror_mode": {
    "name": "ipython",
    "version": 3
   },
   "file_extension": ".py",
   "mimetype": "text/x-python",
   "name": "python",
   "nbconvert_exporter": "python",
   "pygments_lexer": "ipython3",
   "version": "3.9.12"
  }
 },
 "nbformat": 4,
 "nbformat_minor": 5
}
