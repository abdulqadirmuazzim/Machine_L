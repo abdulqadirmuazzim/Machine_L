{
 "cells": [
  {
   "cell_type": "code",
   "execution_count": 1,
   "id": "4100789a",
   "metadata": {
    "_cell_guid": "b1076dfc-b9ad-4769-8c92-a6c4dae69d19",
    "_uuid": "8f2839f25d086af736a60e9eeb907d3b93b6e0e5",
    "execution": {
     "iopub.execute_input": "2023-12-22T23:21:55.167991Z",
     "iopub.status.busy": "2023-12-22T23:21:55.167340Z",
     "iopub.status.idle": "2023-12-22T23:21:56.003667Z",
     "shell.execute_reply": "2023-12-22T23:21:56.002448Z"
    },
    "papermill": {
     "duration": 0.846819,
     "end_time": "2023-12-22T23:21:56.005940",
     "exception": false,
     "start_time": "2023-12-22T23:21:55.159121",
     "status": "completed"
    },
    "tags": []
   },
   "outputs": [],
   "source": [
    "import numpy as np\n",
    "import pandas as pd"
   ]
  },
  {
   "cell_type": "code",
   "execution_count": 2,
   "id": "6668e094",
   "metadata": {
    "execution": {
     "iopub.execute_input": "2023-12-22T23:21:56.020823Z",
     "iopub.status.busy": "2023-12-22T23:21:56.019710Z",
     "iopub.status.idle": "2023-12-22T23:21:56.079037Z",
     "shell.execute_reply": "2023-12-22T23:21:56.078022Z"
    },
    "papermill": {
     "duration": 0.068798,
     "end_time": "2023-12-22T23:21:56.080794",
     "exception": false,
     "start_time": "2023-12-22T23:21:56.011996",
     "status": "completed"
    },
    "tags": []
   },
   "outputs": [
    {
     "data": {
      "text/html": [
       "<div>\n",
       "<style scoped>\n",
       "    .dataframe tbody tr th:only-of-type {\n",
       "        vertical-align: middle;\n",
       "    }\n",
       "\n",
       "    .dataframe tbody tr th {\n",
       "        vertical-align: top;\n",
       "    }\n",
       "\n",
       "    .dataframe thead th {\n",
       "        text-align: right;\n",
       "    }\n",
       "</style>\n",
       "<table border=\"1\" class=\"dataframe\">\n",
       "  <thead>\n",
       "    <tr style=\"text-align: right;\">\n",
       "      <th></th>\n",
       "      <th>PassengerId</th>\n",
       "      <th>Pclass</th>\n",
       "      <th>Name</th>\n",
       "      <th>Sex</th>\n",
       "      <th>Age</th>\n",
       "      <th>SibSp</th>\n",
       "      <th>Parch</th>\n",
       "      <th>Ticket</th>\n",
       "      <th>Fare</th>\n",
       "      <th>Cabin</th>\n",
       "      <th>Embarked</th>\n",
       "    </tr>\n",
       "  </thead>\n",
       "  <tbody>\n",
       "    <tr>\n",
       "      <th>0</th>\n",
       "      <td>892</td>\n",
       "      <td>3</td>\n",
       "      <td>Kelly, Mr. James</td>\n",
       "      <td>male</td>\n",
       "      <td>34.5</td>\n",
       "      <td>0</td>\n",
       "      <td>0</td>\n",
       "      <td>330911</td>\n",
       "      <td>7.8292</td>\n",
       "      <td>NaN</td>\n",
       "      <td>Q</td>\n",
       "    </tr>\n",
       "    <tr>\n",
       "      <th>1</th>\n",
       "      <td>893</td>\n",
       "      <td>3</td>\n",
       "      <td>Wilkes, Mrs. James (Ellen Needs)</td>\n",
       "      <td>female</td>\n",
       "      <td>47.0</td>\n",
       "      <td>1</td>\n",
       "      <td>0</td>\n",
       "      <td>363272</td>\n",
       "      <td>7.0000</td>\n",
       "      <td>NaN</td>\n",
       "      <td>S</td>\n",
       "    </tr>\n",
       "    <tr>\n",
       "      <th>2</th>\n",
       "      <td>894</td>\n",
       "      <td>2</td>\n",
       "      <td>Myles, Mr. Thomas Francis</td>\n",
       "      <td>male</td>\n",
       "      <td>62.0</td>\n",
       "      <td>0</td>\n",
       "      <td>0</td>\n",
       "      <td>240276</td>\n",
       "      <td>9.6875</td>\n",
       "      <td>NaN</td>\n",
       "      <td>Q</td>\n",
       "    </tr>\n",
       "    <tr>\n",
       "      <th>3</th>\n",
       "      <td>895</td>\n",
       "      <td>3</td>\n",
       "      <td>Wirz, Mr. Albert</td>\n",
       "      <td>male</td>\n",
       "      <td>27.0</td>\n",
       "      <td>0</td>\n",
       "      <td>0</td>\n",
       "      <td>315154</td>\n",
       "      <td>8.6625</td>\n",
       "      <td>NaN</td>\n",
       "      <td>S</td>\n",
       "    </tr>\n",
       "    <tr>\n",
       "      <th>4</th>\n",
       "      <td>896</td>\n",
       "      <td>3</td>\n",
       "      <td>Hirvonen, Mrs. Alexander (Helga E Lindqvist)</td>\n",
       "      <td>female</td>\n",
       "      <td>22.0</td>\n",
       "      <td>1</td>\n",
       "      <td>1</td>\n",
       "      <td>3101298</td>\n",
       "      <td>12.2875</td>\n",
       "      <td>NaN</td>\n",
       "      <td>S</td>\n",
       "    </tr>\n",
       "    <tr>\n",
       "      <th>...</th>\n",
       "      <td>...</td>\n",
       "      <td>...</td>\n",
       "      <td>...</td>\n",
       "      <td>...</td>\n",
       "      <td>...</td>\n",
       "      <td>...</td>\n",
       "      <td>...</td>\n",
       "      <td>...</td>\n",
       "      <td>...</td>\n",
       "      <td>...</td>\n",
       "      <td>...</td>\n",
       "    </tr>\n",
       "    <tr>\n",
       "      <th>413</th>\n",
       "      <td>1305</td>\n",
       "      <td>3</td>\n",
       "      <td>Spector, Mr. Woolf</td>\n",
       "      <td>male</td>\n",
       "      <td>NaN</td>\n",
       "      <td>0</td>\n",
       "      <td>0</td>\n",
       "      <td>A.5. 3236</td>\n",
       "      <td>8.0500</td>\n",
       "      <td>NaN</td>\n",
       "      <td>S</td>\n",
       "    </tr>\n",
       "    <tr>\n",
       "      <th>414</th>\n",
       "      <td>1306</td>\n",
       "      <td>1</td>\n",
       "      <td>Oliva y Ocana, Dona. Fermina</td>\n",
       "      <td>female</td>\n",
       "      <td>39.0</td>\n",
       "      <td>0</td>\n",
       "      <td>0</td>\n",
       "      <td>PC 17758</td>\n",
       "      <td>108.9000</td>\n",
       "      <td>C105</td>\n",
       "      <td>C</td>\n",
       "    </tr>\n",
       "    <tr>\n",
       "      <th>415</th>\n",
       "      <td>1307</td>\n",
       "      <td>3</td>\n",
       "      <td>Saether, Mr. Simon Sivertsen</td>\n",
       "      <td>male</td>\n",
       "      <td>38.5</td>\n",
       "      <td>0</td>\n",
       "      <td>0</td>\n",
       "      <td>SOTON/O.Q. 3101262</td>\n",
       "      <td>7.2500</td>\n",
       "      <td>NaN</td>\n",
       "      <td>S</td>\n",
       "    </tr>\n",
       "    <tr>\n",
       "      <th>416</th>\n",
       "      <td>1308</td>\n",
       "      <td>3</td>\n",
       "      <td>Ware, Mr. Frederick</td>\n",
       "      <td>male</td>\n",
       "      <td>NaN</td>\n",
       "      <td>0</td>\n",
       "      <td>0</td>\n",
       "      <td>359309</td>\n",
       "      <td>8.0500</td>\n",
       "      <td>NaN</td>\n",
       "      <td>S</td>\n",
       "    </tr>\n",
       "    <tr>\n",
       "      <th>417</th>\n",
       "      <td>1309</td>\n",
       "      <td>3</td>\n",
       "      <td>Peter, Master. Michael J</td>\n",
       "      <td>male</td>\n",
       "      <td>NaN</td>\n",
       "      <td>1</td>\n",
       "      <td>1</td>\n",
       "      <td>2668</td>\n",
       "      <td>22.3583</td>\n",
       "      <td>NaN</td>\n",
       "      <td>C</td>\n",
       "    </tr>\n",
       "  </tbody>\n",
       "</table>\n",
       "<p>418 rows × 11 columns</p>\n",
       "</div>"
      ],
      "text/plain": [
       "     PassengerId  Pclass                                          Name  \\\n",
       "0            892       3                              Kelly, Mr. James   \n",
       "1            893       3              Wilkes, Mrs. James (Ellen Needs)   \n",
       "2            894       2                     Myles, Mr. Thomas Francis   \n",
       "3            895       3                              Wirz, Mr. Albert   \n",
       "4            896       3  Hirvonen, Mrs. Alexander (Helga E Lindqvist)   \n",
       "..           ...     ...                                           ...   \n",
       "413         1305       3                            Spector, Mr. Woolf   \n",
       "414         1306       1                  Oliva y Ocana, Dona. Fermina   \n",
       "415         1307       3                  Saether, Mr. Simon Sivertsen   \n",
       "416         1308       3                           Ware, Mr. Frederick   \n",
       "417         1309       3                      Peter, Master. Michael J   \n",
       "\n",
       "        Sex   Age  SibSp  Parch              Ticket      Fare Cabin Embarked  \n",
       "0      male  34.5      0      0              330911    7.8292   NaN        Q  \n",
       "1    female  47.0      1      0              363272    7.0000   NaN        S  \n",
       "2      male  62.0      0      0              240276    9.6875   NaN        Q  \n",
       "3      male  27.0      0      0              315154    8.6625   NaN        S  \n",
       "4    female  22.0      1      1             3101298   12.2875   NaN        S  \n",
       "..      ...   ...    ...    ...                 ...       ...   ...      ...  \n",
       "413    male   NaN      0      0           A.5. 3236    8.0500   NaN        S  \n",
       "414  female  39.0      0      0            PC 17758  108.9000  C105        C  \n",
       "415    male  38.5      0      0  SOTON/O.Q. 3101262    7.2500   NaN        S  \n",
       "416    male   NaN      0      0              359309    8.0500   NaN        S  \n",
       "417    male   NaN      1      1                2668   22.3583   NaN        C  \n",
       "\n",
       "[418 rows x 11 columns]"
      ]
     },
     "execution_count": 2,
     "metadata": {},
     "output_type": "execute_result"
    }
   ],
   "source": [
    "path = 'test.csv'\n",
    "path2 = \"train.csv\"\n",
    "\n",
    "data1 = pd.read_csv(path2)\n",
    "\n",
    "data = pd.read_csv(path)\n",
    "data\n"
   ]
  },
  {
   "cell_type": "code",
   "execution_count": 3,
   "id": "8d091631",
   "metadata": {
    "execution": {
     "iopub.execute_input": "2023-12-22T23:21:56.095282Z",
     "iopub.status.busy": "2023-12-22T23:21:56.094193Z",
     "iopub.status.idle": "2023-12-22T23:21:57.605338Z",
     "shell.execute_reply": "2023-12-22T23:21:57.603845Z"
    },
    "papermill": {
     "duration": 1.521074,
     "end_time": "2023-12-22T23:21:57.608097",
     "exception": false,
     "start_time": "2023-12-22T23:21:56.087023",
     "status": "completed"
    },
    "tags": []
   },
   "outputs": [],
   "source": [
    "from sklearn.experimental import enable_iterative_imputer\n",
    "from sklearn.impute import IterativeImputer as II\n",
    "from sklearn.model_selection import train_test_split as tts\n"
   ]
  },
  {
   "cell_type": "code",
   "execution_count": 4,
   "id": "df365291",
   "metadata": {
    "execution": {
     "iopub.execute_input": "2023-12-22T23:21:57.622103Z",
     "iopub.status.busy": "2023-12-22T23:21:57.621666Z",
     "iopub.status.idle": "2023-12-22T23:21:57.652050Z",
     "shell.execute_reply": "2023-12-22T23:21:57.651057Z"
    },
    "papermill": {
     "duration": 0.039842,
     "end_time": "2023-12-22T23:21:57.654143",
     "exception": false,
     "start_time": "2023-12-22T23:21:57.614301",
     "status": "completed"
    },
    "tags": []
   },
   "outputs": [
    {
     "data": {
      "text/html": [
       "<div>\n",
       "<style scoped>\n",
       "    .dataframe tbody tr th:only-of-type {\n",
       "        vertical-align: middle;\n",
       "    }\n",
       "\n",
       "    .dataframe tbody tr th {\n",
       "        vertical-align: top;\n",
       "    }\n",
       "\n",
       "    .dataframe thead th {\n",
       "        text-align: right;\n",
       "    }\n",
       "</style>\n",
       "<table border=\"1\" class=\"dataframe\">\n",
       "  <thead>\n",
       "    <tr style=\"text-align: right;\">\n",
       "      <th></th>\n",
       "      <th>PassengerId</th>\n",
       "      <th>Pclass</th>\n",
       "      <th>Name</th>\n",
       "      <th>Sex</th>\n",
       "      <th>Age</th>\n",
       "      <th>SibSp</th>\n",
       "      <th>Parch</th>\n",
       "      <th>Ticket</th>\n",
       "      <th>Fare</th>\n",
       "      <th>Cabin</th>\n",
       "      <th>Embarked</th>\n",
       "    </tr>\n",
       "  </thead>\n",
       "  <tbody>\n",
       "    <tr>\n",
       "      <th>0</th>\n",
       "      <td>892</td>\n",
       "      <td>3</td>\n",
       "      <td>Kelly, Mr. James</td>\n",
       "      <td>male</td>\n",
       "      <td>34.50000</td>\n",
       "      <td>0</td>\n",
       "      <td>0</td>\n",
       "      <td>330911</td>\n",
       "      <td>7.8292</td>\n",
       "      <td>NaN</td>\n",
       "      <td>Q</td>\n",
       "    </tr>\n",
       "    <tr>\n",
       "      <th>1</th>\n",
       "      <td>893</td>\n",
       "      <td>3</td>\n",
       "      <td>Wilkes, Mrs. James (Ellen Needs)</td>\n",
       "      <td>female</td>\n",
       "      <td>47.00000</td>\n",
       "      <td>1</td>\n",
       "      <td>0</td>\n",
       "      <td>363272</td>\n",
       "      <td>7.0000</td>\n",
       "      <td>NaN</td>\n",
       "      <td>S</td>\n",
       "    </tr>\n",
       "    <tr>\n",
       "      <th>2</th>\n",
       "      <td>894</td>\n",
       "      <td>2</td>\n",
       "      <td>Myles, Mr. Thomas Francis</td>\n",
       "      <td>male</td>\n",
       "      <td>62.00000</td>\n",
       "      <td>0</td>\n",
       "      <td>0</td>\n",
       "      <td>240276</td>\n",
       "      <td>9.6875</td>\n",
       "      <td>NaN</td>\n",
       "      <td>Q</td>\n",
       "    </tr>\n",
       "    <tr>\n",
       "      <th>3</th>\n",
       "      <td>895</td>\n",
       "      <td>3</td>\n",
       "      <td>Wirz, Mr. Albert</td>\n",
       "      <td>male</td>\n",
       "      <td>27.00000</td>\n",
       "      <td>0</td>\n",
       "      <td>0</td>\n",
       "      <td>315154</td>\n",
       "      <td>8.6625</td>\n",
       "      <td>NaN</td>\n",
       "      <td>S</td>\n",
       "    </tr>\n",
       "    <tr>\n",
       "      <th>4</th>\n",
       "      <td>896</td>\n",
       "      <td>3</td>\n",
       "      <td>Hirvonen, Mrs. Alexander (Helga E Lindqvist)</td>\n",
       "      <td>female</td>\n",
       "      <td>22.00000</td>\n",
       "      <td>1</td>\n",
       "      <td>1</td>\n",
       "      <td>3101298</td>\n",
       "      <td>12.2875</td>\n",
       "      <td>NaN</td>\n",
       "      <td>S</td>\n",
       "    </tr>\n",
       "    <tr>\n",
       "      <th>...</th>\n",
       "      <td>...</td>\n",
       "      <td>...</td>\n",
       "      <td>...</td>\n",
       "      <td>...</td>\n",
       "      <td>...</td>\n",
       "      <td>...</td>\n",
       "      <td>...</td>\n",
       "      <td>...</td>\n",
       "      <td>...</td>\n",
       "      <td>...</td>\n",
       "      <td>...</td>\n",
       "    </tr>\n",
       "    <tr>\n",
       "      <th>413</th>\n",
       "      <td>1305</td>\n",
       "      <td>3</td>\n",
       "      <td>Spector, Mr. Woolf</td>\n",
       "      <td>male</td>\n",
       "      <td>30.27259</td>\n",
       "      <td>0</td>\n",
       "      <td>0</td>\n",
       "      <td>A.5. 3236</td>\n",
       "      <td>8.0500</td>\n",
       "      <td>NaN</td>\n",
       "      <td>S</td>\n",
       "    </tr>\n",
       "    <tr>\n",
       "      <th>414</th>\n",
       "      <td>1306</td>\n",
       "      <td>1</td>\n",
       "      <td>Oliva y Ocana, Dona. Fermina</td>\n",
       "      <td>female</td>\n",
       "      <td>39.00000</td>\n",
       "      <td>0</td>\n",
       "      <td>0</td>\n",
       "      <td>PC 17758</td>\n",
       "      <td>108.9000</td>\n",
       "      <td>C105</td>\n",
       "      <td>C</td>\n",
       "    </tr>\n",
       "    <tr>\n",
       "      <th>415</th>\n",
       "      <td>1307</td>\n",
       "      <td>3</td>\n",
       "      <td>Saether, Mr. Simon Sivertsen</td>\n",
       "      <td>male</td>\n",
       "      <td>38.50000</td>\n",
       "      <td>0</td>\n",
       "      <td>0</td>\n",
       "      <td>SOTON/O.Q. 3101262</td>\n",
       "      <td>7.2500</td>\n",
       "      <td>NaN</td>\n",
       "      <td>S</td>\n",
       "    </tr>\n",
       "    <tr>\n",
       "      <th>416</th>\n",
       "      <td>1308</td>\n",
       "      <td>3</td>\n",
       "      <td>Ware, Mr. Frederick</td>\n",
       "      <td>male</td>\n",
       "      <td>30.27259</td>\n",
       "      <td>0</td>\n",
       "      <td>0</td>\n",
       "      <td>359309</td>\n",
       "      <td>8.0500</td>\n",
       "      <td>NaN</td>\n",
       "      <td>S</td>\n",
       "    </tr>\n",
       "    <tr>\n",
       "      <th>417</th>\n",
       "      <td>1309</td>\n",
       "      <td>3</td>\n",
       "      <td>Peter, Master. Michael J</td>\n",
       "      <td>male</td>\n",
       "      <td>30.27259</td>\n",
       "      <td>1</td>\n",
       "      <td>1</td>\n",
       "      <td>2668</td>\n",
       "      <td>22.3583</td>\n",
       "      <td>NaN</td>\n",
       "      <td>C</td>\n",
       "    </tr>\n",
       "  </tbody>\n",
       "</table>\n",
       "<p>418 rows × 11 columns</p>\n",
       "</div>"
      ],
      "text/plain": [
       "     PassengerId  Pclass                                          Name  \\\n",
       "0            892       3                              Kelly, Mr. James   \n",
       "1            893       3              Wilkes, Mrs. James (Ellen Needs)   \n",
       "2            894       2                     Myles, Mr. Thomas Francis   \n",
       "3            895       3                              Wirz, Mr. Albert   \n",
       "4            896       3  Hirvonen, Mrs. Alexander (Helga E Lindqvist)   \n",
       "..           ...     ...                                           ...   \n",
       "413         1305       3                            Spector, Mr. Woolf   \n",
       "414         1306       1                  Oliva y Ocana, Dona. Fermina   \n",
       "415         1307       3                  Saether, Mr. Simon Sivertsen   \n",
       "416         1308       3                           Ware, Mr. Frederick   \n",
       "417         1309       3                      Peter, Master. Michael J   \n",
       "\n",
       "        Sex       Age  SibSp  Parch              Ticket      Fare Cabin  \\\n",
       "0      male  34.50000      0      0              330911    7.8292   NaN   \n",
       "1    female  47.00000      1      0              363272    7.0000   NaN   \n",
       "2      male  62.00000      0      0              240276    9.6875   NaN   \n",
       "3      male  27.00000      0      0              315154    8.6625   NaN   \n",
       "4    female  22.00000      1      1             3101298   12.2875   NaN   \n",
       "..      ...       ...    ...    ...                 ...       ...   ...   \n",
       "413    male  30.27259      0      0           A.5. 3236    8.0500   NaN   \n",
       "414  female  39.00000      0      0            PC 17758  108.9000  C105   \n",
       "415    male  38.50000      0      0  SOTON/O.Q. 3101262    7.2500   NaN   \n",
       "416    male  30.27259      0      0              359309    8.0500   NaN   \n",
       "417    male  30.27259      1      1                2668   22.3583   NaN   \n",
       "\n",
       "    Embarked  \n",
       "0          Q  \n",
       "1          S  \n",
       "2          Q  \n",
       "3          S  \n",
       "4          S  \n",
       "..       ...  \n",
       "413        S  \n",
       "414        C  \n",
       "415        S  \n",
       "416        S  \n",
       "417        C  \n",
       "\n",
       "[418 rows x 11 columns]"
      ]
     },
     "execution_count": 4,
     "metadata": {},
     "output_type": "execute_result"
    }
   ],
   "source": [
    "# filing in null values for age\n",
    "\n",
    "imp = II(max_iter=100, random_state=1)\n",
    "\n",
    "data['Age'] =  imp.fit_transform(data[['Age']])\n",
    "data"
   ]
  },
  {
   "cell_type": "code",
   "execution_count": 5,
   "id": "54cc4fc3",
   "metadata": {
    "execution": {
     "iopub.execute_input": "2023-12-22T23:21:57.668662Z",
     "iopub.status.busy": "2023-12-22T23:21:57.668289Z",
     "iopub.status.idle": "2023-12-22T23:21:59.360348Z",
     "shell.execute_reply": "2023-12-22T23:21:59.359487Z"
    },
    "papermill": {
     "duration": 1.702241,
     "end_time": "2023-12-22T23:21:59.362838",
     "exception": false,
     "start_time": "2023-12-22T23:21:57.660597",
     "status": "completed"
    },
    "tags": []
   },
   "outputs": [
    {
     "name": "stderr",
     "output_type": "stream",
     "text": [
      "c:\\Users\\King_Abdul\\anaconda3\\lib\\site-packages\\seaborn\\_decorators.py:36: FutureWarning: Pass the following variable as a keyword arg: x. From version 0.12, the only valid positional argument will be `data`, and passing other arguments without an explicit keyword will result in an error or misinterpretation.\n",
      "  warnings.warn(\n"
     ]
    },
    {
     "data": {
      "image/png": "[encoded data removed]",
      "text/plain": [
       "<Figure size 1152x1152 with 6 Axes>"
      ]
     },
     "metadata": {},
     "output_type": "display_data"
    }
   ],
   "source": [
    "from matplotlib import pyplot as plt\n",
    "import seaborn as sb\n",
    "%matplotlib inline\n",
    "\n",
    "data.Embarked.value_counts()\n",
    "\n",
    "plt.style.use('grayscale')\n",
    "# plt.style.use('seaborn-v0_8-deep')\n",
    "\n",
    "fig, axes = plt.subplots(nrows=3, ncols=2, figsize=(16, 16))\n",
    "\n",
    "\n",
    "sb.histplot(data['Age'], ax=axes[0, 0])\n",
    "axes[0, 0].set_title(\"Age\")\n",
    "\n",
    "# sb.histplot(data['Pclass'], ax=axes[0, 1])\n",
    "axes[0, 1].set_title(\"Box plot of age\")\n",
    "sb.boxplot(data['Age'], ax=axes[0, 1], color='cyan')\n",
    "\n",
    "\n",
    "sb.histplot(data['Embarked'], ax=axes[1, 0])\n",
    "axes[1, 0].set_title(\"Embarked\")\n",
    "\n",
    "sb.stripplot(data=data, x=\"SibSp\", y='Age', ax=axes[1, 1])\n",
    "axes[1, 1].set_title(\"Age to siblings/spouses\")\n",
    "\n",
    "sb.histplot(data['SibSp'], ax=axes[2,0])\n",
    "axes[2, 0].set_title('siblings/spouses')\n",
    "\n",
    "sb.histplot(data['Parch'], ax=axes[2, 1])\n",
    "axes[2,1].set_title('Parent/Child')\n",
    "\n",
    "plt.tight_layout()\n",
    "plt.show()"
   ]
  },
  {
   "cell_type": "code",
   "execution_count": 6,
   "id": "e4474ddc",
   "metadata": {
    "execution": {
     "iopub.execute_input": "2023-12-22T23:21:59.379272Z",
     "iopub.status.busy": "2023-12-22T23:21:59.378955Z",
     "iopub.status.idle": "2023-12-22T23:21:59.385140Z",
     "shell.execute_reply": "2023-12-22T23:21:59.384435Z"
    },
    "papermill": {
     "duration": 0.016338,
     "end_time": "2023-12-22T23:21:59.386716",
     "exception": false,
     "start_time": "2023-12-22T23:21:59.370378",
     "status": "completed"
    },
    "tags": []
   },
   "outputs": [
    {
     "data": {
      "text/plain": [
       "['Solarize_Light2',\n",
       " '_classic_test_patch',\n",
       " '_mpl-gallery',\n",
       " '_mpl-gallery-nogrid',\n",
       " 'bmh',\n",
       " 'classic',\n",
       " 'dark_background',\n",
       " 'fast',\n",
       " 'fivethirtyeight',\n",
       " 'ggplot',\n",
       " 'grayscale',\n",
       " 'seaborn',\n",
       " 'seaborn-bright',\n",
       " 'seaborn-colorblind',\n",
       " 'seaborn-dark',\n",
       " 'seaborn-dark-palette',\n",
       " 'seaborn-darkgrid',\n",
       " 'seaborn-deep',\n",
       " 'seaborn-muted',\n",
       " 'seaborn-notebook',\n",
       " 'seaborn-paper',\n",
       " 'seaborn-pastel',\n",
       " 'seaborn-poster',\n",
       " 'seaborn-talk',\n",
       " 'seaborn-ticks',\n",
       " 'seaborn-white',\n",
       " 'seaborn-whitegrid',\n",
       " 'tableau-colorblind10']"
      ]
     },
     "execution_count": 6,
     "metadata": {},
     "output_type": "execute_result"
    }
   ],
   "source": [
    "plt.style.available"
   ]
  },
  {
   "cell_type": "code",
   "execution_count": 7,
   "id": "4609c815",
   "metadata": {
    "execution": {
     "iopub.execute_input": "2023-12-22T23:21:59.403196Z",
     "iopub.status.busy": "2023-12-22T23:21:59.402832Z",
     "iopub.status.idle": "2023-12-22T23:21:59.414783Z",
     "shell.execute_reply": "2023-12-22T23:21:59.413643Z"
    },
    "papermill": {
     "duration": 0.022781,
     "end_time": "2023-12-22T23:21:59.416869",
     "exception": false,
     "start_time": "2023-12-22T23:21:59.394088",
     "status": "completed"
    },
    "tags": []
   },
   "outputs": [
    {
     "data": {
      "text/plain": [
       "False    714\n",
       "True     177\n",
       "Name: Age, dtype: int64"
      ]
     },
     "execution_count": 7,
     "metadata": {},
     "output_type": "execute_result"
    }
   ],
   "source": [
    "data1.Embarked = data1.Embarked.fillna('N')\n",
    "data1.Age.isnull().value_counts()"
   ]
  },
  {
   "cell_type": "code",
   "execution_count": 8,
   "id": "b78c98da",
   "metadata": {
    "execution": {
     "iopub.execute_input": "2023-12-22T23:21:59.434591Z",
     "iopub.status.busy": "2023-12-22T23:21:59.434214Z",
     "iopub.status.idle": "2023-12-22T23:21:59.458820Z",
     "shell.execute_reply": "2023-12-22T23:21:59.457369Z"
    },
    "papermill": {
     "duration": 0.0367,
     "end_time": "2023-12-22T23:21:59.461295",
     "exception": false,
     "start_time": "2023-12-22T23:21:59.424595",
     "status": "completed"
    },
    "tags": []
   },
   "outputs": [
    {
     "data": {
      "text/html": [
       "<div>\n",
       "<style scoped>\n",
       "    .dataframe tbody tr th:only-of-type {\n",
       "        vertical-align: middle;\n",
       "    }\n",
       "\n",
       "    .dataframe tbody tr th {\n",
       "        vertical-align: top;\n",
       "    }\n",
       "\n",
       "    .dataframe thead th {\n",
       "        text-align: right;\n",
       "    }\n",
       "</style>\n",
       "<table border=\"1\" class=\"dataframe\">\n",
       "  <thead>\n",
       "    <tr style=\"text-align: right;\">\n",
       "      <th></th>\n",
       "      <th>PassengerId</th>\n",
       "      <th>Survived</th>\n",
       "      <th>Pclass</th>\n",
       "      <th>Name</th>\n",
       "      <th>Sex</th>\n",
       "      <th>Age</th>\n",
       "      <th>SibSp</th>\n",
       "      <th>Parch</th>\n",
       "      <th>Ticket</th>\n",
       "      <th>Fare</th>\n",
       "      <th>Cabin</th>\n",
       "      <th>Embarked</th>\n",
       "    </tr>\n",
       "  </thead>\n",
       "  <tbody>\n",
       "    <tr>\n",
       "      <th>0</th>\n",
       "      <td>1</td>\n",
       "      <td>0</td>\n",
       "      <td>3</td>\n",
       "      <td>Braund, Mr. Owen Harris</td>\n",
       "      <td>male</td>\n",
       "      <td>22.0</td>\n",
       "      <td>1</td>\n",
       "      <td>0</td>\n",
       "      <td>A/5 21171</td>\n",
       "      <td>7.2500</td>\n",
       "      <td>NaN</td>\n",
       "      <td>S</td>\n",
       "    </tr>\n",
       "    <tr>\n",
       "      <th>1</th>\n",
       "      <td>2</td>\n",
       "      <td>1</td>\n",
       "      <td>1</td>\n",
       "      <td>Cumings, Mrs. John Bradley (Florence Briggs Th...</td>\n",
       "      <td>female</td>\n",
       "      <td>38.0</td>\n",
       "      <td>1</td>\n",
       "      <td>0</td>\n",
       "      <td>PC 17599</td>\n",
       "      <td>71.2833</td>\n",
       "      <td>C85</td>\n",
       "      <td>C</td>\n",
       "    </tr>\n",
       "    <tr>\n",
       "      <th>2</th>\n",
       "      <td>3</td>\n",
       "      <td>1</td>\n",
       "      <td>3</td>\n",
       "      <td>Heikkinen, Miss. Laina</td>\n",
       "      <td>female</td>\n",
       "      <td>26.0</td>\n",
       "      <td>0</td>\n",
       "      <td>0</td>\n",
       "      <td>STON/O2. 3101282</td>\n",
       "      <td>7.9250</td>\n",
       "      <td>NaN</td>\n",
       "      <td>S</td>\n",
       "    </tr>\n",
       "    <tr>\n",
       "      <th>3</th>\n",
       "      <td>4</td>\n",
       "      <td>1</td>\n",
       "      <td>1</td>\n",
       "      <td>Futrelle, Mrs. Jacques Heath (Lily May Peel)</td>\n",
       "      <td>female</td>\n",
       "      <td>35.0</td>\n",
       "      <td>1</td>\n",
       "      <td>0</td>\n",
       "      <td>113803</td>\n",
       "      <td>53.1000</td>\n",
       "      <td>C123</td>\n",
       "      <td>S</td>\n",
       "    </tr>\n",
       "    <tr>\n",
       "      <th>4</th>\n",
       "      <td>5</td>\n",
       "      <td>0</td>\n",
       "      <td>3</td>\n",
       "      <td>Allen, Mr. William Henry</td>\n",
       "      <td>male</td>\n",
       "      <td>35.0</td>\n",
       "      <td>0</td>\n",
       "      <td>0</td>\n",
       "      <td>373450</td>\n",
       "      <td>8.0500</td>\n",
       "      <td>NaN</td>\n",
       "      <td>S</td>\n",
       "    </tr>\n",
       "    <tr>\n",
       "      <th>...</th>\n",
       "      <td>...</td>\n",
       "      <td>...</td>\n",
       "      <td>...</td>\n",
       "      <td>...</td>\n",
       "      <td>...</td>\n",
       "      <td>...</td>\n",
       "      <td>...</td>\n",
       "      <td>...</td>\n",
       "      <td>...</td>\n",
       "      <td>...</td>\n",
       "      <td>...</td>\n",
       "      <td>...</td>\n",
       "    </tr>\n",
       "    <tr>\n",
       "      <th>886</th>\n",
       "      <td>887</td>\n",
       "      <td>0</td>\n",
       "      <td>2</td>\n",
       "      <td>Montvila, Rev. Juozas</td>\n",
       "      <td>male</td>\n",
       "      <td>27.0</td>\n",
       "      <td>0</td>\n",
       "      <td>0</td>\n",
       "      <td>211536</td>\n",
       "      <td>13.0000</td>\n",
       "      <td>NaN</td>\n",
       "      <td>S</td>\n",
       "    </tr>\n",
       "    <tr>\n",
       "      <th>887</th>\n",
       "      <td>888</td>\n",
       "      <td>1</td>\n",
       "      <td>1</td>\n",
       "      <td>Graham, Miss. Margaret Edith</td>\n",
       "      <td>female</td>\n",
       "      <td>19.0</td>\n",
       "      <td>0</td>\n",
       "      <td>0</td>\n",
       "      <td>112053</td>\n",
       "      <td>30.0000</td>\n",
       "      <td>B42</td>\n",
       "      <td>S</td>\n",
       "    </tr>\n",
       "    <tr>\n",
       "      <th>888</th>\n",
       "      <td>889</td>\n",
       "      <td>0</td>\n",
       "      <td>3</td>\n",
       "      <td>Johnston, Miss. Catherine Helen \"Carrie\"</td>\n",
       "      <td>female</td>\n",
       "      <td>29.7</td>\n",
       "      <td>1</td>\n",
       "      <td>2</td>\n",
       "      <td>W./C. 6607</td>\n",
       "      <td>23.4500</td>\n",
       "      <td>NaN</td>\n",
       "      <td>S</td>\n",
       "    </tr>\n",
       "    <tr>\n",
       "      <th>889</th>\n",
       "      <td>890</td>\n",
       "      <td>1</td>\n",
       "      <td>1</td>\n",
       "      <td>Behr, Mr. Karl Howell</td>\n",
       "      <td>male</td>\n",
       "      <td>26.0</td>\n",
       "      <td>0</td>\n",
       "      <td>0</td>\n",
       "      <td>111369</td>\n",
       "      <td>30.0000</td>\n",
       "      <td>C148</td>\n",
       "      <td>C</td>\n",
       "    </tr>\n",
       "    <tr>\n",
       "      <th>890</th>\n",
       "      <td>891</td>\n",
       "      <td>0</td>\n",
       "      <td>3</td>\n",
       "      <td>Dooley, Mr. Patrick</td>\n",
       "      <td>male</td>\n",
       "      <td>32.0</td>\n",
       "      <td>0</td>\n",
       "      <td>0</td>\n",
       "      <td>370376</td>\n",
       "      <td>7.7500</td>\n",
       "      <td>NaN</td>\n",
       "      <td>Q</td>\n",
       "    </tr>\n",
       "  </tbody>\n",
       "</table>\n",
       "<p>891 rows × 12 columns</p>\n",
       "</div>"
      ],
      "text/plain": [
       "     PassengerId  Survived  Pclass  \\\n",
       "0              1         0       3   \n",
       "1              2         1       1   \n",
       "2              3         1       3   \n",
       "3              4         1       1   \n",
       "4              5         0       3   \n",
       "..           ...       ...     ...   \n",
       "886          887         0       2   \n",
       "887          888         1       1   \n",
       "888          889         0       3   \n",
       "889          890         1       1   \n",
       "890          891         0       3   \n",
       "\n",
       "                                                  Name     Sex   Age  SibSp  \\\n",
       "0                              Braund, Mr. Owen Harris    male  22.0      1   \n",
       "1    Cumings, Mrs. John Bradley (Florence Briggs Th...  female  38.0      1   \n",
       "2                               Heikkinen, Miss. Laina  female  26.0      0   \n",
       "3         Futrelle, Mrs. Jacques Heath (Lily May Peel)  female  35.0      1   \n",
       "4                             Allen, Mr. William Henry    male  35.0      0   \n",
       "..                                                 ...     ...   ...    ...   \n",
       "886                              Montvila, Rev. Juozas    male  27.0      0   \n",
       "887                       Graham, Miss. Margaret Edith  female  19.0      0   \n",
       "888           Johnston, Miss. Catherine Helen \"Carrie\"  female  29.7      1   \n",
       "889                              Behr, Mr. Karl Howell    male  26.0      0   \n",
       "890                                Dooley, Mr. Patrick    male  32.0      0   \n",
       "\n",
       "     Parch            Ticket     Fare Cabin Embarked  \n",
       "0        0         A/5 21171   7.2500   NaN        S  \n",
       "1        0          PC 17599  71.2833   C85        C  \n",
       "2        0  STON/O2. 3101282   7.9250   NaN        S  \n",
       "3        0            113803  53.1000  C123        S  \n",
       "4        0            373450   8.0500   NaN        S  \n",
       "..     ...               ...      ...   ...      ...  \n",
       "886      0            211536  13.0000   NaN        S  \n",
       "887      0            112053  30.0000   B42        S  \n",
       "888      2        W./C. 6607  23.4500   NaN        S  \n",
       "889      0            111369  30.0000  C148        C  \n",
       "890      0            370376   7.7500   NaN        Q  \n",
       "\n",
       "[891 rows x 12 columns]"
      ]
     },
     "execution_count": 8,
     "metadata": {},
     "output_type": "execute_result"
    }
   ],
   "source": [
    "# Lets use imputation\n",
    "\n",
    "reshaped = np.array(data1.Age).reshape(-1, 1)\n",
    "\n",
    "train, test = tts(reshaped, test_size=.4)\n",
    "len(test)\n",
    "imp = II(max_iter=100, random_state=1)\n",
    "imp.fit(train)\n",
    "\n",
    "result = np.round(imp.transform(reshaped), 1)\n",
    "\n",
    "data1.Age = result\n",
    "data1"
   ]
  },
  {
   "cell_type": "code",
   "execution_count": 9,
   "id": "e4624f75",
   "metadata": {
    "execution": {
     "iopub.execute_input": "2023-12-22T23:21:59.479866Z",
     "iopub.status.busy": "2023-12-22T23:21:59.479484Z",
     "iopub.status.idle": "2023-12-22T23:22:00.175765Z",
     "shell.execute_reply": "2023-12-22T23:22:00.174902Z"
    },
    "papermill": {
     "duration": 0.708451,
     "end_time": "2023-12-22T23:22:00.177952",
     "exception": false,
     "start_time": "2023-12-22T23:21:59.469501",
     "status": "completed"
    },
    "tags": []
   },
   "outputs": [
    {
     "data": {
      "image/png": "[encoded data removed]",
      "text/plain": [
       "<Figure size 1152x504 with 4 Axes>"
      ]
     },
     "metadata": {},
     "output_type": "display_data"
    }
   ],
   "source": [
    "fig, ax = plt.subplots(nrows=1, ncols=3, figsize=(16, 7))\n",
    "\n",
    "plt.style.use(\"bmh\")\n",
    "\n",
    "sb.stripplot(x=data1.Sex, ax=ax[0])\n",
    "\n",
    "sb.heatmap(data=data1.tail(50)[['Age', 'Fare']], cmap='YlOrRd', ax=ax[1])\n",
    "\n",
    "sb.scatterplot(data=data1, x='Age', y='Fare', hue='Survived', palette={0:'red', 1: 'blue'}, ax=ax[2])\n",
    "\n",
    "plt.show()\n"
   ]
  },
  {
   "cell_type": "code",
   "execution_count": 10,
   "id": "463ae06a",
   "metadata": {
    "execution": {
     "iopub.execute_input": "2023-12-22T23:22:00.198633Z",
     "iopub.status.busy": "2023-12-22T23:22:00.197960Z",
     "iopub.status.idle": "2023-12-22T23:22:00.210911Z",
     "shell.execute_reply": "2023-12-22T23:22:00.209996Z"
    },
    "papermill": {
     "duration": 0.02521,
     "end_time": "2023-12-22T23:22:00.212781",
     "exception": false,
     "start_time": "2023-12-22T23:22:00.187571",
     "status": "completed"
    },
    "tags": []
   },
   "outputs": [
    {
     "data": {
      "text/html": [
       "<div>\n",
       "<style scoped>\n",
       "    .dataframe tbody tr th:only-of-type {\n",
       "        vertical-align: middle;\n",
       "    }\n",
       "\n",
       "    .dataframe tbody tr th {\n",
       "        vertical-align: top;\n",
       "    }\n",
       "\n",
       "    .dataframe thead th {\n",
       "        text-align: right;\n",
       "    }\n",
       "</style>\n",
       "<table border=\"1\" class=\"dataframe\">\n",
       "  <thead>\n",
       "    <tr style=\"text-align: right;\">\n",
       "      <th></th>\n",
       "      <th>len</th>\n",
       "      <th>percent</th>\n",
       "    </tr>\n",
       "    <tr>\n",
       "      <th>Survived</th>\n",
       "      <th></th>\n",
       "      <th></th>\n",
       "    </tr>\n",
       "  </thead>\n",
       "  <tbody>\n",
       "    <tr>\n",
       "      <th>0</th>\n",
       "      <td>549</td>\n",
       "      <td>61.6</td>\n",
       "    </tr>\n",
       "    <tr>\n",
       "      <th>1</th>\n",
       "      <td>342</td>\n",
       "      <td>38.4</td>\n",
       "    </tr>\n",
       "  </tbody>\n",
       "</table>\n",
       "</div>"
      ],
      "text/plain": [
       "          len  percent\n",
       "Survived              \n",
       "0         549     61.6\n",
       "1         342     38.4"
      ]
     },
     "execution_count": 10,
     "metadata": {},
     "output_type": "execute_result"
    }
   ],
   "source": [
    "# pandas magic\n",
    "\n",
    "def percent(arg):\n",
    "    answer = len(arg)/len(data1) * 100\n",
    "    return round(answer, 1)\n",
    "\n",
    "data1.groupby('Survived').Sex.agg([len, percent])"
   ]
  },
  {
   "cell_type": "code",
   "execution_count": 11,
   "id": "76a9dd50",
   "metadata": {
    "execution": {
     "iopub.execute_input": "2023-12-22T23:22:00.233646Z",
     "iopub.status.busy": "2023-12-22T23:22:00.233189Z",
     "iopub.status.idle": "2023-12-22T23:22:00.239238Z",
     "shell.execute_reply": "2023-12-22T23:22:00.238415Z"
    },
    "papermill": {
     "duration": 0.018728,
     "end_time": "2023-12-22T23:22:00.241068",
     "exception": false,
     "start_time": "2023-12-22T23:22:00.222340",
     "status": "completed"
    },
    "tags": []
   },
   "outputs": [
    {
     "data": {
      "text/plain": [
       "array(['S', 'C', 'Q', 'N'], dtype=object)"
      ]
     },
     "execution_count": 11,
     "metadata": {},
     "output_type": "execute_result"
    }
   ],
   "source": [
    "data1.Embarked.unique()\n"
   ]
  },
  {
   "cell_type": "code",
   "execution_count": 12,
   "id": "1542acaa",
   "metadata": {
    "execution": {
     "iopub.execute_input": "2023-12-22T23:22:00.261834Z",
     "iopub.status.busy": "2023-12-22T23:22:00.261210Z",
     "iopub.status.idle": "2023-12-22T23:22:00.378416Z",
     "shell.execute_reply": "2023-12-22T23:22:00.376805Z"
    },
    "papermill": {
     "duration": 0.130408,
     "end_time": "2023-12-22T23:22:00.380881",
     "exception": false,
     "start_time": "2023-12-22T23:22:00.250473",
     "status": "completed"
    },
    "tags": []
   },
   "outputs": [],
   "source": [
    "from sklearn.ensemble import RandomForestRegressor as  rfr\n",
    "from sklearn.metrics import  accuracy_score, mean_absolute_error as mae\n",
    "\n",
    "\n",
    "x = data1.drop(columns=['Name', 'PassengerId', 'Survived', 'Ticket', \"Fare\", \"Cabin\"])\n",
    "x = x.replace(['male', \"female\", 'S', 'C', 'Q', 'N'], [1, 0, 1, 2, 3, 0])\n",
    "y= data1['Survived']\n",
    "\n",
    "xtr, xte, ytr, yte = tts(x, y, test_size=.2)\n",
    "\n",
    "def run_model( model, intr=xtr, inte=xte, outtr=ytr, outte=yte):\n",
    "    Model = model  \n",
    "    Model.fit(intr, outtr)\n",
    "    prediction = np.round(Model.predict(inte))\n",
    "    \n",
    "    score = accuracy_score(outte, prediction)\n",
    "    mean_abs = mae(outte, prediction)\n",
    "    return score, mean_abs\n",
    "    "
   ]
  },
  {
   "cell_type": "code",
   "execution_count": 13,
   "id": "5adc536f",
   "metadata": {
    "execution": {
     "iopub.execute_input": "2023-12-22T23:22:00.402944Z",
     "iopub.status.busy": "2023-12-22T23:22:00.402576Z",
     "iopub.status.idle": "2023-12-22T23:22:02.844238Z",
     "shell.execute_reply": "2023-12-22T23:22:02.843137Z"
    },
    "papermill": {
     "duration": 2.454744,
     "end_time": "2023-12-22T23:22:02.846010",
     "exception": false,
     "start_time": "2023-12-22T23:22:00.391266",
     "status": "completed"
    },
    "tags": []
   },
   "outputs": [
    {
     "data": {
      "text/plain": [
       "array([[0.75977654, 0.24022346],\n",
       "       [0.78212291, 0.21787709],\n",
       "       [0.74860335, 0.25139665],\n",
       "       [0.79888268, 0.20111732],\n",
       "       [0.79329609, 0.20670391],\n",
       "       [0.77653631, 0.22346369],\n",
       "       [0.77653631, 0.22346369]])"
      ]
     },
     "execution_count": 13,
     "metadata": {},
     "output_type": "execute_result"
    }
   ],
   "source": [
    "from sklearn.tree import DecisionTreeRegressor as dtr\n",
    "from sklearn.tree import DecisionTreeClassifier as dtc\n",
    "    \n",
    "p1 = run_model(rfr(criterion='absolute_error'))\n",
    "p2 = run_model(rfr( criterion='poisson', max_leaf_nodes=100))\n",
    "p3 = run_model(rfr(n_estimators=150, max_leaf_nodes=100, random_state=1))\n",
    "p4 = run_model(rfr(criterion='absolute_error', random_state=0, max_depth=7))\n",
    "p5 = run_model(rfr(criterion='absolute_error', random_state=1, max_leaf_nodes=100))\n",
    "p6 = run_model(dtr(criterion='absolute_error', max_leaf_nodes=100, random_state=1))\n",
    "p7 = run_model(dtc(random_state=1, max_leaf_nodes=100))\n",
    "\n",
    "\n",
    "run_model(dtr(random_state=1, max_leaf_nodes=100))\n",
    "pred_list = [p1, p2, p3, p4, p5, p6, p7]\n",
    "np.array(pred_list)"
   ]
  },
  {
   "cell_type": "code",
   "execution_count": 14,
   "id": "031de59c",
   "metadata": {
    "execution": {
     "iopub.execute_input": "2023-12-22T23:22:02.866678Z",
     "iopub.status.busy": "2023-12-22T23:22:02.866286Z",
     "iopub.status.idle": "2023-12-22T23:22:03.232233Z",
     "shell.execute_reply": "2023-12-22T23:22:03.230770Z"
    },
    "papermill": {
     "duration": 0.379352,
     "end_time": "2023-12-22T23:22:03.234853",
     "exception": false,
     "start_time": "2023-12-22T23:22:02.855501",
     "status": "completed"
    },
    "tags": []
   },
   "outputs": [
    {
     "data": {
      "image/png": "[encoded data removed]",
      "text/plain": [
       "<Figure size 720x360 with 2 Axes>"
      ]
     },
     "metadata": {},
     "output_type": "display_data"
    }
   ],
   "source": [
    "new_list = np.array(pred_list).T\n",
    "\n",
    "# visalize our models\n",
    "plt.style.use(\"seaborn-darkgrid\")\n",
    "fig, ax = plt.subplots(nrows=1, ncols=2, figsize=(10, 5))\n",
    "\n",
    "\n",
    "\n",
    "ax[0].stem(range(len(new_list[0])), new_list[0])\n",
    "ax[0].plot(range(len(new_list[0])), new_list[0], color='darkblue', alpha=.5)\n",
    "ax[0].set_title(\"Accuracy Score\")\n",
    "    \n",
    "ax[1].stem(range(len(new_list[1])), new_list[1])\n",
    "ax[1].plot(range(len(new_list[1])), new_list[1], color='crimson', alpha=.5)\n",
    "ax[1].set_title(\"Mean Absolute Error\")\n",
    "\n",
    "plt.show()\n"
   ]
  },
  {
   "cell_type": "code",
   "execution_count": 25,
   "id": "4013f2bc",
   "metadata": {
    "execution": {
     "iopub.execute_input": "2023-12-22T23:22:03.255937Z",
     "iopub.status.busy": "2023-12-22T23:22:03.255587Z",
     "iopub.status.idle": "2023-12-22T23:22:03.701862Z",
     "shell.execute_reply": "2023-12-22T23:22:03.700894Z"
    },
    "papermill": {
     "duration": 0.458881,
     "end_time": "2023-12-22T23:22:03.703604",
     "exception": false,
     "start_time": "2023-12-22T23:22:03.244723",
     "status": "completed"
    },
    "tags": []
   },
   "outputs": [
    {
     "ename": "ModuleNotFoundError",
     "evalue": "No module named 'xgboost'",
     "output_type": "error",
     "traceback": [
      "\u001b[1;31m---------------------------------------------------------------------------\u001b[0m",
      "\u001b[1;31mModuleNotFoundError\u001b[0m                       Traceback (most recent call last)",
      "\u001b[1;32mc:\\Users\\King_Abdul\\Ml\\ano_taitanic.ipynb Cell 15\u001b[0m line \u001b[0;36m<cell line: 2>\u001b[1;34m()\u001b[0m\n\u001b[0;32m      <a href='vscode-notebook-cell:/c%3A/Users/King_Abdul/Ml/ano_taitanic.ipynb#X20sZmlsZQ%3D%3D?line=0'>1</a>\u001b[0m \u001b[39m# using xgboost\u001b[39;00m\n\u001b[1;32m----> <a href='vscode-notebook-cell:/c%3A/Users/King_Abdul/Ml/ano_taitanic.ipynb#X20sZmlsZQ%3D%3D?line=1'>2</a>\u001b[0m \u001b[39mfrom\u001b[39;00m \u001b[39mxgboost\u001b[39;00m \u001b[39mimport\u001b[39;00m XGBRegressor \u001b[39mas\u001b[39;00m XGBR\n\u001b[0;32m      <a href='vscode-notebook-cell:/c%3A/Users/King_Abdul/Ml/ano_taitanic.ipynb#X20sZmlsZQ%3D%3D?line=3'>4</a>\u001b[0m model \u001b[39m=\u001b[39m XGBR(n_estimator\u001b[39m=\u001b[39m\u001b[39m1000\u001b[39m, learning_rate\u001b[39m=\u001b[39m\u001b[39m0.01\u001b[39m)\n\u001b[0;32m      <a href='vscode-notebook-cell:/c%3A/Users/King_Abdul/Ml/ano_taitanic.ipynb#X20sZmlsZQ%3D%3D?line=4'>5</a>\u001b[0m model\u001b[39m.\u001b[39mfit(xtr, ytr,\n\u001b[0;32m      <a href='vscode-notebook-cell:/c%3A/Users/King_Abdul/Ml/ano_taitanic.ipynb#X20sZmlsZQ%3D%3D?line=5'>6</a>\u001b[0m          early_stopping_rounds\u001b[39m=\u001b[39m\u001b[39m3\u001b[39m,\n\u001b[0;32m      <a href='vscode-notebook-cell:/c%3A/Users/King_Abdul/Ml/ano_taitanic.ipynb#X20sZmlsZQ%3D%3D?line=6'>7</a>\u001b[0m          verbose\u001b[39m=\u001b[39m\u001b[39mFalse\u001b[39;00m,\n\u001b[0;32m      <a href='vscode-notebook-cell:/c%3A/Users/King_Abdul/Ml/ano_taitanic.ipynb#X20sZmlsZQ%3D%3D?line=7'>8</a>\u001b[0m          eval_set\u001b[39m=\u001b[39m[(x, y)])\n",
      "\u001b[1;31mModuleNotFoundError\u001b[0m: No module named 'xgboost'"
     ]
    }
   ],
   "source": [
    "# using xgboost\n",
    "from xgboost import XGBRegressor as XGBR\n",
    "\n",
    "model = XGBR(n_estimator=1000, learning_rate=0.01)\n",
    "model.fit(xtr, ytr,\n",
    "         early_stopping_rounds=3,\n",
    "         verbose=False,\n",
    "         eval_set=[(x, y)])\n",
    "prediction = np.round(model.predict(xte))\n",
    "mae(yte, prediction)\n"
   ]
  },
  {
   "cell_type": "markdown",
   "id": "2e3898e8",
   "metadata": {
    "papermill": {
     "duration": 0.009258,
     "end_time": "2023-12-22T23:22:03.722763",
     "exception": false,
     "start_time": "2023-12-22T23:22:03.713505",
     "status": "completed"
    },
    "tags": []
   },
   "source": [
    "## using Pipline and cross validation"
   ]
  },
  {
   "cell_type": "code",
   "execution_count": null,
   "id": "f0ba5ff9",
   "metadata": {
    "execution": {
     "iopub.execute_input": "2023-12-22T23:22:03.743696Z",
     "iopub.status.busy": "2023-12-22T23:22:03.743313Z",
     "iopub.status.idle": "2023-12-22T23:22:03.749605Z",
     "shell.execute_reply": "2023-12-22T23:22:03.748751Z"
    },
    "papermill": {
     "duration": 0.019185,
     "end_time": "2023-12-22T23:22:03.751425",
     "exception": false,
     "start_time": "2023-12-22T23:22:03.732240",
     "status": "completed"
    },
    "tags": []
   },
   "outputs": [
    {
     "data": {
      "text/plain": [
       "['accuracy',\n",
       " 'adjusted_mutual_info_score',\n",
       " 'adjusted_rand_score',\n",
       " 'average_precision',\n",
       " 'balanced_accuracy',\n",
       " 'completeness_score',\n",
       " 'explained_variance',\n",
       " 'f1',\n",
       " 'f1_macro',\n",
       " 'f1_micro',\n",
       " 'f1_samples',\n",
       " 'f1_weighted',\n",
       " 'fowlkes_mallows_score',\n",
       " 'homogeneity_score',\n",
       " 'jaccard',\n",
       " 'jaccard_macro',\n",
       " 'jaccard_micro',\n",
       " 'jaccard_samples',\n",
       " 'jaccard_weighted',\n",
       " 'matthews_corrcoef',\n",
       " 'max_error',\n",
       " 'mutual_info_score',\n",
       " 'neg_brier_score',\n",
       " 'neg_log_loss',\n",
       " 'neg_mean_absolute_error',\n",
       " 'neg_mean_absolute_percentage_error',\n",
       " 'neg_mean_gamma_deviance',\n",
       " 'neg_mean_poisson_deviance',\n",
       " 'neg_mean_squared_error',\n",
       " 'neg_mean_squared_log_error',\n",
       " 'neg_median_absolute_error',\n",
       " 'neg_negative_likelihood_ratio',\n",
       " 'neg_root_mean_squared_error',\n",
       " 'normalized_mutual_info_score',\n",
       " 'positive_likelihood_ratio',\n",
       " 'precision',\n",
       " 'precision_macro',\n",
       " 'precision_micro',\n",
       " 'precision_samples',\n",
       " 'precision_weighted',\n",
       " 'r2',\n",
       " 'rand_score',\n",
       " 'recall',\n",
       " 'recall_macro',\n",
       " 'recall_micro',\n",
       " 'recall_samples',\n",
       " 'recall_weighted',\n",
       " 'roc_auc',\n",
       " 'roc_auc_ovo',\n",
       " 'roc_auc_ovo_weighted',\n",
       " 'roc_auc_ovr',\n",
       " 'roc_auc_ovr_weighted',\n",
       " 'top_k_accuracy',\n",
       " 'v_measure_score']"
      ]
     },
     "execution_count": 16,
     "metadata": {},
     "output_type": "execute_result"
    }
   ],
   "source": [
    "import sklearn.metrics as met\n",
    "met.get_scorer_names()"
   ]
  },
  {
   "cell_type": "code",
   "execution_count": null,
   "id": "3005bfc3",
   "metadata": {
    "execution": {
     "iopub.execute_input": "2023-12-22T23:22:03.774502Z",
     "iopub.status.busy": "2023-12-22T23:22:03.773111Z",
     "iopub.status.idle": "2023-12-22T23:22:03.798411Z",
     "shell.execute_reply": "2023-12-22T23:22:03.797750Z"
    },
    "papermill": {
     "duration": 0.038678,
     "end_time": "2023-12-22T23:22:03.800272",
     "exception": false,
     "start_time": "2023-12-22T23:22:03.761594",
     "status": "completed"
    },
    "tags": []
   },
   "outputs": [
    {
     "name": "stdout",
     "output_type": "stream",
     "text": [
      "<class 'pandas.core.frame.DataFrame'>\n",
      "RangeIndex: 891 entries, 0 to 890\n",
      "Data columns (total 12 columns):\n",
      " #   Column       Non-Null Count  Dtype  \n",
      "---  ------       --------------  -----  \n",
      " 0   PassengerId  891 non-null    int64  \n",
      " 1   Survived     891 non-null    int64  \n",
      " 2   Pclass       891 non-null    int64  \n",
      " 3   Name         891 non-null    object \n",
      " 4   Sex          891 non-null    object \n",
      " 5   Age          714 non-null    float64\n",
      " 6   SibSp        891 non-null    int64  \n",
      " 7   Parch        891 non-null    int64  \n",
      " 8   Ticket       891 non-null    object \n",
      " 9   Fare         891 non-null    float64\n",
      " 10  Cabin        204 non-null    object \n",
      " 11  Embarked     889 non-null    object \n",
      "dtypes: float64(2), int64(5), object(5)\n",
      "memory usage: 83.7+ KB\n"
     ]
    }
   ],
   "source": [
    "df_tr = pd.read_csv(path2)\n",
    "df_te = pd.read_csv(path)\n",
    "df_tr.info()"
   ]
  },
  {
   "cell_type": "code",
   "execution_count": null,
   "id": "a579cae4",
   "metadata": {
    "execution": {
     "iopub.execute_input": "2023-12-22T23:22:03.822572Z",
     "iopub.status.busy": "2023-12-22T23:22:03.821203Z",
     "iopub.status.idle": "2023-12-22T23:22:03.827352Z",
     "shell.execute_reply": "2023-12-22T23:22:03.826604Z"
    },
    "papermill": {
     "duration": 0.018665,
     "end_time": "2023-12-22T23:22:03.828909",
     "exception": false,
     "start_time": "2023-12-22T23:22:03.810244",
     "status": "completed"
    },
    "tags": []
   },
   "outputs": [],
   "source": [
    "inpu = df_tr.drop('Survived', axis=1)\n",
    "out = df_tr.Survived"
   ]
  },
  {
   "cell_type": "markdown",
   "id": "e2018170",
   "metadata": {
    "papermill": {
     "duration": 0.009772,
     "end_time": "2023-12-22T23:22:03.848662",
     "exception": false,
     "start_time": "2023-12-22T23:22:03.838890",
     "status": "completed"
    },
    "tags": []
   },
   "source": [
    "## Preprocessing\n",
    "* **Cabin has too many unknowns so best to drop the whole column**\n",
    "* **Embarked has only two either drop rows or impute most frequent**\n",
    "*  **Age has a considerable amount of null values so can't drop rather use iterative imputer**"
   ]
  },
  {
   "cell_type": "code",
   "execution_count": null,
   "id": "e7cefefa",
   "metadata": {
    "execution": {
     "iopub.execute_input": "2023-12-22T23:22:03.870363Z",
     "iopub.status.busy": "2023-12-22T23:22:03.869803Z",
     "iopub.status.idle": "2023-12-22T23:22:03.879013Z",
     "shell.execute_reply": "2023-12-22T23:22:03.878169Z"
    },
    "papermill": {
     "duration": 0.022145,
     "end_time": "2023-12-22T23:22:03.880845",
     "exception": false,
     "start_time": "2023-12-22T23:22:03.858700",
     "status": "completed"
    },
    "tags": []
   },
   "outputs": [
    {
     "data": {
      "text/plain": [
       "False"
      ]
     },
     "execution_count": 19,
     "metadata": {},
     "output_type": "execute_result"
    }
   ],
   "source": [
    "df_tr.Embarked.value_counts()\n",
    "\n",
    "df_tr['Embarked'] = df_tr.Embarked.fillna(\"S\")\n",
    "df_tr.Embarked.isna().any()"
   ]
  },
  {
   "cell_type": "code",
   "execution_count": null,
   "id": "071760e5",
   "metadata": {
    "execution": {
     "iopub.execute_input": "2023-12-22T23:22:03.904797Z",
     "iopub.status.busy": "2023-12-22T23:22:03.903923Z",
     "iopub.status.idle": "2023-12-22T23:22:03.948539Z",
     "shell.execute_reply": "2023-12-22T23:22:03.947153Z"
    },
    "papermill": {
     "duration": 0.058598,
     "end_time": "2023-12-22T23:22:03.950780",
     "exception": false,
     "start_time": "2023-12-22T23:22:03.892182",
     "status": "completed"
    },
    "tags": []
   },
   "outputs": [
    {
     "ename": "NameError",
     "evalue": "name 'df_tr' is not defined",
     "output_type": "error",
     "traceback": [
      "\u001b[1;31m---------------------------------------------------------------------------\u001b[0m",
      "\u001b[1;31mNameError\u001b[0m                                 Traceback (most recent call last)",
      "\u001b[1;32mc:\\Users\\King_Abdul\\Ml\\ano_taitanic.ipynb Cell 22\u001b[0m line \u001b[0;36m<cell line: 7>\u001b[1;34m()\u001b[0m\n\u001b[0;32m      <a href='vscode-notebook-cell:/c%3A/Users/King_Abdul/Ml/ano_taitanic.ipynb#X30sZmlsZQ%3D%3D?line=3'>4</a>\u001b[0m \u001b[39mfrom\u001b[39;00m \u001b[39msklearn\u001b[39;00m\u001b[39m.\u001b[39;00m\u001b[39mcompose\u001b[39;00m \u001b[39mimport\u001b[39;00m ColumnTransformer \u001b[39mas\u001b[39;00m CT\n\u001b[0;32m      <a href='vscode-notebook-cell:/c%3A/Users/King_Abdul/Ml/ano_taitanic.ipynb#X30sZmlsZQ%3D%3D?line=5'>6</a>\u001b[0m \u001b[39m# columns to one-hot encode\u001b[39;00m\n\u001b[1;32m----> <a href='vscode-notebook-cell:/c%3A/Users/King_Abdul/Ml/ano_taitanic.ipynb#X30sZmlsZQ%3D%3D?line=6'>7</a>\u001b[0m cols \u001b[39m=\u001b[39m [col \u001b[39mfor\u001b[39;00m col \u001b[39min\u001b[39;00m df_tr \u001b[39mif\u001b[39;00m df_tr[col]\u001b[39m.\u001b[39mnunique() \u001b[39m<\u001b[39m \u001b[39m5\u001b[39m \u001b[39mand\u001b[39;00m df_tr[col]\u001b[39m.\u001b[39mdtype \u001b[39m==\u001b[39m \u001b[39m\"\u001b[39m\u001b[39mobject\u001b[39m\u001b[39m\"\u001b[39m]\n\u001b[0;32m      <a href='vscode-notebook-cell:/c%3A/Users/King_Abdul/Ml/ano_taitanic.ipynb#X30sZmlsZQ%3D%3D?line=8'>9</a>\u001b[0m imputer \u001b[39m=\u001b[39m II(max_iter\u001b[39m=\u001b[39m\u001b[39m100\u001b[39m, random_state\u001b[39m=\u001b[39m\u001b[39m0\u001b[39m)\n\u001b[0;32m     <a href='vscode-notebook-cell:/c%3A/Users/King_Abdul/Ml/ano_taitanic.ipynb#X30sZmlsZQ%3D%3D?line=9'>10</a>\u001b[0m onehot \u001b[39m=\u001b[39m OHE(handle_unknown\u001b[39m=\u001b[39m\u001b[39m'\u001b[39m\u001b[39mignore\u001b[39m\u001b[39m'\u001b[39m)\n",
      "\u001b[1;31mNameError\u001b[0m: name 'df_tr' is not defined"
     ]
    }
   ],
   "source": [
    "from sklearn.model_selection import cross_val_score as cvs\n",
    "from sklearn.pipeline import Pipeline as pipe\n",
    "from sklearn.preprocessing import OneHotEncoder as OHE\n",
    "from sklearn.compose import ColumnTransformer as CT\n",
    "\n",
    "# columns to one-hot encode\n",
    "cols = [col for col in df_tr if df_tr[col].nunique() < 5 and df_tr[col].dtype == \"object\"]\n",
    "\n",
    "imputer = II(max_iter=100, random_state=0)\n",
    "onehot = OHE(handle_unknown='ignore')\n",
    "\n",
    "# firstPipe = pipe(steps=[(\"impute\", ),\n",
    "#                        (\"onehot\", )])\n",
    "\n",
    "transform = CT(transformers=[(\"numeric\", imputer, [\"Age\"]),\n",
    "                           (\"categoric\", onehot, cols)])\n",
    "\n",
    "pipeline = pipe(steps=[(\"preprocessing\", transform),\n",
    "                       (\"model\", rfr(criterion='absolute_error', random_state=0, max_depth=7))])\n",
    "\n",
    "pipeline"
   ]
  },
  {
   "cell_type": "code",
   "execution_count": null,
   "id": "bc0dcc16",
   "metadata": {
    "execution": {
     "iopub.execute_input": "2023-12-22T23:22:03.973828Z",
     "iopub.status.busy": "2023-12-22T23:22:03.973475Z",
     "iopub.status.idle": "2023-12-22T23:22:04.388277Z",
     "shell.execute_reply": "2023-12-22T23:22:04.386875Z"
    },
    "papermill": {
     "duration": 0.428994,
     "end_time": "2023-12-22T23:22:04.390632",
     "exception": false,
     "start_time": "2023-12-22T23:22:03.961638",
     "status": "completed"
    },
    "tags": []
   },
   "outputs": [
    {
     "ename": "NameError",
     "evalue": "name 'inpu' is not defined",
     "output_type": "error",
     "traceback": [
      "\u001b[1;31m---------------------------------------------------------------------------\u001b[0m",
      "\u001b[1;31mNameError\u001b[0m                                 Traceback (most recent call last)",
      "\u001b[1;32mc:\\Users\\King_Abdul\\Ml\\ano_taitanic.ipynb Cell 23\u001b[0m line \u001b[0;36m<cell line: 2>\u001b[1;34m()\u001b[0m\n\u001b[0;32m      <a href='vscode-notebook-cell:/c%3A/Users/King_Abdul/Ml/ano_taitanic.ipynb#X31sZmlsZQ%3D%3D?line=0'>1</a>\u001b[0m \u001b[39m# train test split\u001b[39;00m\n\u001b[1;32m----> <a href='vscode-notebook-cell:/c%3A/Users/King_Abdul/Ml/ano_taitanic.ipynb#X31sZmlsZQ%3D%3D?line=1'>2</a>\u001b[0m xtrain, xtest, ytrain, ytest \u001b[39m=\u001b[39m tts(inpu, out, test_size\u001b[39m=\u001b[39m\u001b[39m.3\u001b[39m)\n\u001b[0;32m      <a href='vscode-notebook-cell:/c%3A/Users/King_Abdul/Ml/ano_taitanic.ipynb#X31sZmlsZQ%3D%3D?line=3'>4</a>\u001b[0m pipeline\u001b[39m.\u001b[39mfit(xtrain, ytrain)\n\u001b[0;32m      <a href='vscode-notebook-cell:/c%3A/Users/King_Abdul/Ml/ano_taitanic.ipynb#X31sZmlsZQ%3D%3D?line=4'>5</a>\u001b[0m predict \u001b[39m=\u001b[39m np\u001b[39m.\u001b[39mround(pipeline\u001b[39m.\u001b[39mpredict(xtest))\n",
      "\u001b[1;31mNameError\u001b[0m: name 'inpu' is not defined"
     ]
    }
   ],
   "source": [
    "# train test split\n",
    "xtrain, xtest, ytrain, ytest = tts(inpu, out, test_size=.3)\n",
    "\n",
    "pipeline.fit(xtrain, ytrain)\n",
    "predict = np.round(pipeline.predict(xtest))\n",
    "mean_abs_err = mae(ytest, predict)\n",
    "print(\"mean absolute error is:\\n\", mean_abs_err)"
   ]
  },
  {
   "cell_type": "code",
   "execution_count": null,
   "id": "e3c6a9bb",
   "metadata": {
    "execution": {
     "iopub.execute_input": "2023-12-22T23:22:04.414147Z",
     "iopub.status.busy": "2023-12-22T23:22:04.413776Z",
     "iopub.status.idle": "2023-12-22T23:22:09.387748Z",
     "shell.execute_reply": "2023-12-22T23:22:09.386631Z"
    },
    "papermill": {
     "duration": 4.988129,
     "end_time": "2023-12-22T23:22:09.389689",
     "exception": false,
     "start_time": "2023-12-22T23:22:04.401560",
     "status": "completed"
    },
    "tags": []
   },
   "outputs": [
    {
     "data": {
      "text/plain": [
       "0.2198799625468165"
      ]
     },
     "execution_count": 22,
     "metadata": {},
     "output_type": "execute_result"
    }
   ],
   "source": [
    "# Using Cross-validation\n",
    "preds = -1 * cvs(pipeline, inpu, out, cv=10, scoring=\"neg_mean_absolute_error\")\n",
    "preds.mean()"
   ]
  },
  {
   "cell_type": "code",
   "execution_count": null,
   "id": "bcdb97c2",
   "metadata": {
    "execution": {
     "iopub.execute_input": "2023-12-22T23:22:09.413182Z",
     "iopub.status.busy": "2023-12-22T23:22:09.412825Z",
     "iopub.status.idle": "2023-12-22T23:22:09.419672Z",
     "shell.execute_reply": "2023-12-22T23:22:09.418501Z"
    },
    "papermill": {
     "duration": 0.021574,
     "end_time": "2023-12-22T23:22:09.422300",
     "exception": false,
     "start_time": "2023-12-22T23:22:09.400726",
     "status": "completed"
    },
    "tags": []
   },
   "outputs": [],
   "source": [
    "df_te.drop(\"Cabin\", axis=1, inplace=True)\n"
   ]
  },
  {
   "cell_type": "code",
   "execution_count": null,
   "id": "005163f6",
   "metadata": {
    "execution": {
     "iopub.execute_input": "2023-12-22T23:22:09.446970Z",
     "iopub.status.busy": "2023-12-22T23:22:09.446606Z",
     "iopub.status.idle": "2023-12-22T23:22:09.524187Z",
     "shell.execute_reply": "2023-12-22T23:22:09.523463Z"
    },
    "papermill": {
     "duration": 0.092536,
     "end_time": "2023-12-22T23:22:09.526416",
     "exception": false,
     "start_time": "2023-12-22T23:22:09.433880",
     "status": "completed"
    },
    "tags": []
   },
   "outputs": [],
   "source": [
    "from sklearn.impute import SimpleImputer as SI\n",
    "\n",
    "# columns with low cardinallity\n",
    "cols = [col for col in df_te if df_te[col].nunique() < 5 and df_te[col].dtype == \"object\"]\n",
    "\n",
    "# iterative imputer for age\n",
    "imputer = II(max_iter=100, random_state=0)\n",
    "\n",
    "# simple imputer for Embarked\n",
    "pipeline = pipe(steps=[(\"SImputer\", SI(strategy='most_frequent')),\n",
    "                      (\"oneHot\", OHE(handle_unknown='ignore'))])\n",
    "# Column transformation\n",
    "processor = CT(transformers=[('numeric_data', imputer, ['Age']),\n",
    "                            (\"categrical_data\", pipeline, cols)])\n",
    "df_te\n",
    "# last pipeline\n",
    "lastPipe = pipe(steps=[(\"processor\", processor),\n",
    "                      (\"model\", XGBR(n_estimators=100, learning_rate=.05, n_jobs=4))])\n",
    "# mod = \n",
    "# mod.fit()\n",
    "lastPipe.fit(inpu, out)\n",
    "prediction = lastPipe.predict(df_te)\n",
    "# np.round(prediction)"
   ]
  },
  {
   "cell_type": "code",
   "execution_count": null,
   "id": "9e4d1875",
   "metadata": {
    "execution": {
     "iopub.execute_input": "2023-12-22T23:22:09.550191Z",
     "iopub.status.busy": "2023-12-22T23:22:09.549655Z",
     "iopub.status.idle": "2023-12-22T23:22:09.558857Z",
     "shell.execute_reply": "2023-12-22T23:22:09.557614Z"
    },
    "papermill": {
     "duration": 0.023398,
     "end_time": "2023-12-22T23:22:09.561152",
     "exception": false,
     "start_time": "2023-12-22T23:22:09.537754",
     "status": "completed"
    },
    "tags": []
   },
   "outputs": [],
   "source": [
    "df = pd.DataFrame({\"PassengerId\": df_te.PassengerId,\n",
    "                  \"Survived\": np.round(prediction)})\n",
    "df.to_csv(\"Submission\", index=False)"
   ]
  }
 ],
 "metadata": {
  "kaggle": {
   "accelerator": "none",
   "dataSources": [
    {
     "databundleVersionId": 26502,
     "sourceId": 3136,
     "sourceType": "competition"
    },
    {
     "datasetId": 56596,
     "sourceId": 396588,
     "sourceType": "datasetVersion"
    }
   ],
   "dockerImageVersionId": 30587,
   "isGpuEnabled": false,
   "isInternetEnabled": true,
   "language": "python",
   "sourceType": "notebook"
  },
  "kernelspec": {
   "display_name": "Python 3 (ipykernel)",
   "language": "python",
   "name": "python3"
  },
  "language_info": {
   "codemirror_mode": {
    "name": "ipython",
    "version": 3
   },
   "file_extension": ".py",
   "mimetype": "text/x-python",
   "name": "python",
   "nbconvert_exporter": "python",
   "pygments_lexer": "ipython3",
   "version": "3.9.12"
  },
  "papermill": {
   "default_parameters": {},
   "duration": 18.06776,
   "end_time": "2023-12-22T23:22:10.294210",
   "environment_variables": {},
   "exception": null,
   "input_path": "__notebook__.ipynb",
   "output_path": "__notebook__.ipynb",
   "parameters": {},
   "start_time": "2023-12-22T23:21:52.226450",
   "version": "2.4.0"
  }
 },
 "nbformat": 4,
 "nbformat_minor": 5
}
